{
 "cells": [
  {
   "cell_type": "markdown",
   "id": "f64653e2-4d04-464e-92e0-4ef45dbfd857",
   "metadata": {},
   "source": [
    "# Sequence Prediction\n",
    "\n",
    "Neural networks are powerful tools for text prediction, capable of learning patterns in language by analyzing large datasets. In this exercise, you'll use a neural network to predict whether  IMDB movie reviews are positive or negative based on their text. "
   ]
  },
  {
   "cell_type": "code",
   "execution_count": 1,
   "id": "8b5c3114-8b34-4952-85f1-3f5205b020f7",
   "metadata": {},
   "outputs": [
    {
     "name": "stdout",
     "output_type": "stream",
     "text": [
      "2.1.0.dev20230610\n"
     ]
    }
   ],
   "source": [
    "import os\n",
    "import sys\n",
    "import torch\n",
    "import numpy as np\n",
    "os.environ[\"TOKENIZERS_PARALLELISM\"] = \"false\"\n",
    "\n",
    "print(torch.__version__)\n",
    "\n"
   ]
  },
  {
   "cell_type": "markdown",
   "id": "29896ba3-879d-4cf6-bfa8-f0342a2fdb40",
   "metadata": {},
   "source": [
    "## Tools to help us with text are plentiful, but a common one is going away\n",
    "**TorchText** development is stopped and the 0.18 release (April 2024) will be the last stable release of the library.\n",
    "\n",
    "## We'll use the very popular tools from HuggingFace https://huggingface.co/\n",
    "\n",
    "Note that these tools work with both pytorch and Tensorflow\n"
   ]
  },
  {
   "cell_type": "code",
   "execution_count": 3,
   "id": "5c3a657b-c90d-4857-9f39-ca3a517a690e",
   "metadata": {},
   "outputs": [
    {
     "name": "stderr",
     "output_type": "stream",
     "text": [
      "/packages/miniconda-t2/20230523/envs/jupyter-cuda121-20230610/lib/python3.8/site-packages/torchvision/datapoints/__init__.py:12: UserWarning: The torchvision.datapoints and torchvision.transforms.v2 namespaces are still Beta. While we do not expect major breaking changes, some APIs may still change according to user feedback. Please submit any feedback you may have in this issue: https://github.com/pytorch/vision/issues/6753, and you can also check out https://github.com/pytorch/vision/issues/7319 to learn more about the APIs that we suspect might involve future changes. You can silence this warning by calling torchvision.disable_beta_transforms_warning().\n",
      "  warnings.warn(_BETA_TRANSFORMS_WARNING)\n",
      "/packages/miniconda-t2/20230523/envs/jupyter-cuda121-20230610/lib/python3.8/site-packages/torchvision/transforms/v2/__init__.py:54: UserWarning: The torchvision.datapoints and torchvision.transforms.v2 namespaces are still Beta. While we do not expect major breaking changes, some APIs may still change according to user feedback. Please submit any feedback you may have in this issue: https://github.com/pytorch/vision/issues/6753, and you can also check out https://github.com/pytorch/vision/issues/7319 to learn more about the APIs that we suspect might involve future changes. You can silence this warning by calling torchvision.disable_beta_transforms_warning().\n",
      "  warnings.warn(_BETA_TRANSFORMS_WARNING)\n"
     ]
    }
   ],
   "source": [
    "try:\n",
    "    import transformers\n",
    "    import datasets\n",
    "    import evaluate\n",
    "    import accelerate\n",
    "except:\n",
    "    !pip install transformers datasets evaluate accelerate\n",
    "\n",
    "    sys.exit()\n"
   ]
  },
  {
   "cell_type": "markdown",
   "id": "8895a85a-d422-4255-8f8b-4f23ece022d8",
   "metadata": {},
   "source": [
    "# Text Data\n",
    "\n",
    "Below we'll load the IMDB database tokenize it and setup our data loaders"
   ]
  },
  {
   "cell_type": "code",
   "execution_count": 4,
   "id": "127f4f02-2607-433a-bdc1-c5f8a5ddf1e9",
   "metadata": {},
   "outputs": [
    {
     "data": {
      "application/vnd.jupyter.widget-view+json": {
       "model_id": "3e3fec6524624cb386287b60546996bb",
       "version_major": 2,
       "version_minor": 0
      },
      "text/plain": [
       "README.md:   0%|          | 0.00/7.81k [00:00<?, ?B/s]"
      ]
     },
     "metadata": {},
     "output_type": "display_data"
    },
    {
     "data": {
      "application/vnd.jupyter.widget-view+json": {
       "model_id": "63cf5b104e8743369c5e7e2984079d9b",
       "version_major": 2,
       "version_minor": 0
      },
      "text/plain": [
       "train-00000-of-00001.parquet:   0%|          | 0.00/21.0M [00:00<?, ?B/s]"
      ]
     },
     "metadata": {},
     "output_type": "display_data"
    },
    {
     "data": {
      "application/vnd.jupyter.widget-view+json": {
       "model_id": "bf1e15f2fc41450cae8406e96aad0c77",
       "version_major": 2,
       "version_minor": 0
      },
      "text/plain": [
       "test-00000-of-00001.parquet:   0%|          | 0.00/20.5M [00:00<?, ?B/s]"
      ]
     },
     "metadata": {},
     "output_type": "display_data"
    },
    {
     "data": {
      "application/vnd.jupyter.widget-view+json": {
       "model_id": "041aff17bb574947a35fa6ebc6260d7a",
       "version_major": 2,
       "version_minor": 0
      },
      "text/plain": [
       "unsupervised-00000-of-00001.parquet:   0%|          | 0.00/42.0M [00:00<?, ?B/s]"
      ]
     },
     "metadata": {},
     "output_type": "display_data"
    },
    {
     "data": {
      "application/vnd.jupyter.widget-view+json": {
       "model_id": "e290b7beb1954a3caba49d8fafe3733d",
       "version_major": 2,
       "version_minor": 0
      },
      "text/plain": [
       "Generating train split:   0%|          | 0/25000 [00:00<?, ? examples/s]"
      ]
     },
     "metadata": {},
     "output_type": "display_data"
    },
    {
     "data": {
      "application/vnd.jupyter.widget-view+json": {
       "model_id": "68b0c99fc52d4a80b950499ec1a70492",
       "version_major": 2,
       "version_minor": 0
      },
      "text/plain": [
       "Generating test split:   0%|          | 0/25000 [00:00<?, ? examples/s]"
      ]
     },
     "metadata": {},
     "output_type": "display_data"
    },
    {
     "data": {
      "application/vnd.jupyter.widget-view+json": {
       "model_id": "2e83799795744d73b854f56ff9dcb036",
       "version_major": 2,
       "version_minor": 0
      },
      "text/plain": [
       "Generating unsupervised split:   0%|          | 0/50000 [00:00<?, ? examples/s]"
      ]
     },
     "metadata": {},
     "output_type": "display_data"
    }
   ],
   "source": [
    "from datasets import load_dataset\n",
    "import torch.nn as nn\n",
    "import torch.optim as optim\n",
    "\n",
    "imdb = load_dataset(\"imdb\")"
   ]
  },
  {
   "cell_type": "code",
   "execution_count": 5,
   "id": "17fba8f3-8918-4a58-8ed5-8b40924552ac",
   "metadata": {},
   "outputs": [
    {
     "data": {
      "application/vnd.jupyter.widget-view+json": {
       "model_id": "0f51e100d0f94ee78c69c1bbcbbfc492",
       "version_major": 2,
       "version_minor": 0
      },
      "text/plain": [
       "tokenizer_config.json:   0%|          | 0.00/48.0 [00:00<?, ?B/s]"
      ]
     },
     "metadata": {},
     "output_type": "display_data"
    },
    {
     "data": {
      "application/vnd.jupyter.widget-view+json": {
       "model_id": "29e04609e04a4cd68f153229845df2f2",
       "version_major": 2,
       "version_minor": 0
      },
      "text/plain": [
       "config.json:   0%|          | 0.00/483 [00:00<?, ?B/s]"
      ]
     },
     "metadata": {},
     "output_type": "display_data"
    },
    {
     "data": {
      "application/vnd.jupyter.widget-view+json": {
       "model_id": "03513e34de2e44919d9ec8fef0bbf6ab",
       "version_major": 2,
       "version_minor": 0
      },
      "text/plain": [
       "vocab.txt:   0%|          | 0.00/232k [00:00<?, ?B/s]"
      ]
     },
     "metadata": {},
     "output_type": "display_data"
    },
    {
     "data": {
      "application/vnd.jupyter.widget-view+json": {
       "model_id": "0e7262304ec24704982db8ec200cda04",
       "version_major": 2,
       "version_minor": 0
      },
      "text/plain": [
       "tokenizer.json:   0%|          | 0.00/466k [00:00<?, ?B/s]"
      ]
     },
     "metadata": {},
     "output_type": "display_data"
    }
   ],
   "source": [
    "from transformers import AutoTokenizer\n",
    "tokenizer = AutoTokenizer.from_pretrained(\"distilbert/distilbert-base-uncased\")\n"
   ]
  },
  {
   "cell_type": "code",
   "execution_count": 6,
   "id": "08a7dcdc-78bb-4ed4-9e6f-4a8d96a9dc9e",
   "metadata": {},
   "outputs": [
    {
     "name": "stdout",
     "output_type": "stream",
     "text": [
      "dict_keys(['train', 'test', 'unsupervised'])\n",
      "------------Original-------------\n",
      "{'text': 'I love sci-fi and am willing to put up with a lot. Sci-fi movies/TV are usually underfunded, under-appreciated and misunderstood. I tried to like this, I really did, but it is to good TV sci-fi as Babylon 5 is to Star Trek (the original). Silly prosthetics, cheap cardboard sets, stilted dialogues, CG that doesn\\'t match the background, and painfully one-dimensional characters cannot be overcome with a \\'sci-fi\\' setting. (I\\'m sure there are those of you out there who think Babylon 5 is good sci-fi TV. It\\'s not. It\\'s clichéd and uninspiring.) While US viewers might like emotion and character development, sci-fi is a genre that does not take itself seriously (cf. Star Trek). It may treat important issues, yet not as a serious philosophy. It\\'s really difficult to care about the characters here as they are not simply foolish, just missing a spark of life. Their actions and reactions are wooden and predictable, often painful to watch. The makers of Earth KNOW it\\'s rubbish as they have to always say \"Gene Roddenberry\\'s Earth...\" otherwise people would not continue watching. Roddenberry\\'s ashes must be turning in their orbit as this dull, cheap, poorly edited (watching it without advert breaks really brings this home) trudging Trabant of a show lumbers into space. Spoiler. So, kill off a main character. And then bring him back as another actor. Jeeez! Dallas all over again.', 'label': 0}\n",
      "------------Encoded-------------\n",
      "[101, 1045, 2293, 16596, 1011, 10882, 1998, 2572, 5627, 2000, 2404, 2039, 2007, 1037, 2843, 1012, 16596, 1011, 10882, 5691, 1013, 2694, 2024, 2788, 2104, 11263, 25848, 1010, 2104, 1011, 12315, 1998, 28947, 1012, 1045, 2699, 2000, 2066, 2023, 1010, 1045, 2428, 2106, 1010, 2021, 2009, 2003, 2000, 2204, 2694, 16596, 1011, 10882, 2004, 17690, 1019, 2003, 2000, 2732, 10313, 1006, 1996, 2434, 1007, 1012, 10021, 4013, 3367, 20086, 2015, 1010, 10036, 19747, 4520, 1010, 25931, 3064, 22580, 1010, 1039, 2290, 2008, 2987, 1005, 1056, 2674, 1996, 4281, 1010, 1998, 16267, 2028, 1011, 8789, 3494, 3685, 2022, 9462, 2007, 102]\n",
      "------------Decoded-------------\n",
      "[CLS] i love sci - fi and am willing to put up with a lot. sci - fi movies / tv are usually underfunded, under - appreciated and misunderstood. i tried to like this, i really did, but it is to good tv sci - fi as babylon 5 is to star trek ( the original ). silly prosthetics, cheap cardboard sets, stilted dialogues, cg that doesn ' t match the background, and painfully one - dimensional characters cannot be overcome with [SEP]\n"
     ]
    }
   ],
   "source": [
    "print(imdb.keys())\n",
    "\n",
    "output=tokenizer(imdb['test'][0]['text'], truncation=True, max_length=100)\n",
    "\n",
    "print(\"------------Original-------------\")\n",
    "print(imdb[\"test\"][0])\n",
    "\n",
    "\n",
    "print(\"------------Encoded-------------\")\n",
    "print(output['input_ids'])\n",
    "\n",
    "\n",
    "print(\"------------Decoded-------------\")\n",
    "print(tokenizer.decode(output['input_ids']))\n",
    "\n"
   ]
  },
  {
   "cell_type": "code",
   "execution_count": 7,
   "id": "0491b1d4-ca7c-41c1-81ab-ff1b9a2997f5",
   "metadata": {},
   "outputs": [
    {
     "data": {
      "application/vnd.jupyter.widget-view+json": {
       "model_id": "a4c0ee93c2c245949a5299cd08c41d74",
       "version_major": 2,
       "version_minor": 0
      },
      "text/plain": [
       "Map:   0%|          | 0/25000 [00:00<?, ? examples/s]"
      ]
     },
     "metadata": {},
     "output_type": "display_data"
    },
    {
     "data": {
      "application/vnd.jupyter.widget-view+json": {
       "model_id": "4bb220e2e2f149d0be672be4d931498e",
       "version_major": 2,
       "version_minor": 0
      },
      "text/plain": [
       "Map:   0%|          | 0/25000 [00:00<?, ? examples/s]"
      ]
     },
     "metadata": {},
     "output_type": "display_data"
    },
    {
     "data": {
      "application/vnd.jupyter.widget-view+json": {
       "model_id": "464300cc5d134364a99f29093c384887",
       "version_major": 2,
       "version_minor": 0
      },
      "text/plain": [
       "Map:   0%|          | 0/50000 [00:00<?, ? examples/s]"
      ]
     },
     "metadata": {},
     "output_type": "display_data"
    }
   ],
   "source": [
    "def tokenize_function(examples):\n",
    "    return tokenizer(examples[\"text\"], truncation=True, max_length=100)\n",
    "imdb = imdb.map(tokenize_function, batched=True)\n",
    "#imdb is a dictionary"
   ]
  },
  {
   "cell_type": "code",
   "execution_count": 8,
   "id": "907de582-77fe-4a7c-87f1-b4d742e9613c",
   "metadata": {},
   "outputs": [],
   "source": [
    "from torch.utils.data import DataLoader\n",
    "from transformers import DataCollatorWithPadding\n",
    "\n",
    "data_collator = DataCollatorWithPadding(tokenizer=tokenizer)\n",
    "\n",
    "train_dataloader = DataLoader(imdb['train'].remove_columns(\"text\"), shuffle=True, batch_size=256,collate_fn=data_collator)\n",
    "test_dataloader = DataLoader(imdb['test'].remove_columns(\"text\"), shuffle=False, batch_size=256,collate_fn=data_collator)"
   ]
  },
  {
   "cell_type": "code",
   "execution_count": 9,
   "id": "df70b13c-645f-4267-9b4d-6f3bea47458a",
   "metadata": {
    "scrolled": true
   },
   "outputs": [],
   "source": [
    "batch=next(iter(train_dataloader))"
   ]
  },
  {
   "cell_type": "code",
   "execution_count": 10,
   "id": "31f58ca9-f36c-47a2-968c-3cc3068d086f",
   "metadata": {},
   "outputs": [
    {
     "name": "stdout",
     "output_type": "stream",
     "text": [
      "dict_keys(['input_ids', 'attention_mask', 'labels'])\n",
      "torch.Size([256, 100])\n",
      "tensor([[  101,  1045,  2253,  ...,  4302,  1998,   102],\n",
      "        [  101,  1037,  2200,  ...,  1010,  2021,   102],\n",
      "        [  101,  1999,  1037,  ..., 12908,  2831,   102],\n",
      "        ...,\n",
      "        [  101,  1999,  2857,  ...,  1996, 19318,   102],\n",
      "        [  101,  2012,  2034,  ...,  1998,  2036,   102],\n",
      "        [  101,  2990,  3490,  ...,  3084,  2149,   102]])\n",
      "torch.Size([256])\n"
     ]
    }
   ],
   "source": [
    "print(batch.keys())\n",
    "print(batch['input_ids'].shape)\n",
    "print(batch['input_ids'])\n",
    "\n",
    "print(batch['labels'].shape)"
   ]
  },
  {
   "cell_type": "code",
   "execution_count": 13,
   "id": "1207dba5-b420-44e4-b3cc-ac9e60892ea9",
   "metadata": {},
   "outputs": [
    {
     "data": {
      "text/plain": [
       "30522"
      ]
     },
     "execution_count": 13,
     "metadata": {},
     "output_type": "execute_result"
    }
   ],
   "source": [
    "vocab_size=len(tokenizer.vocab)\n",
    "vocab_size"
   ]
  },
  {
   "cell_type": "code",
   "execution_count": 14,
   "id": "dcf2fc57-42d8-4e5c-9707-e9c9a9512de7",
   "metadata": {},
   "outputs": [],
   "source": [
    "class SimpleRNNClassifier(nn.Module):\n",
    "    def __init__(self, vocab_size, embed_dim, output_dim,pad_index):\n",
    "        super().__init__()\n",
    "        self.embedding = nn.Embedding(vocab_size, embed_dim, padding_idx=pad_index)        \n",
    "        self.rnn = nn.LSTM(embed_dim, embed_dim, batch_first=True,dropout=0.0)\n",
    "        self.fc = nn.Linear(embed_dim, output_dim)\n",
    "    \n",
    "    def forward(self, x):\n",
    "        embedding=self.embedding(x)\n",
    "        output, states = self.rnn(embedding)\n",
    "        output=self.fc(output[:,-1,:]).squeeze()\n",
    "        return torch.nn.functional.sigmoid(output)\n",
    "\n"
   ]
  },
  {
   "cell_type": "code",
   "execution_count": 16,
   "id": "934c5aa4-1113-4e7d-8f1c-0876a23cdff6",
   "metadata": {},
   "outputs": [
    {
     "name": "stderr",
     "output_type": "stream",
     "text": [
      "100%|██████████| 98/98 [00:09<00:00, 10.31it/s]\n"
     ]
    },
    {
     "name": "stdout",
     "output_type": "stream",
     "text": [
      "Loss 0.6901914000511169 Val Loss 0.6914037466049194\n"
     ]
    },
    {
     "name": "stderr",
     "output_type": "stream",
     "text": [
      "100%|██████████| 98/98 [00:10<00:00,  9.75it/s]\n"
     ]
    },
    {
     "name": "stdout",
     "output_type": "stream",
     "text": [
      "Loss 0.6430858314037323 Val Loss 0.6473978161811829\n"
     ]
    },
    {
     "name": "stderr",
     "output_type": "stream",
     "text": [
      "100%|██████████| 98/98 [00:09<00:00,  9.86it/s]\n"
     ]
    },
    {
     "name": "stdout",
     "output_type": "stream",
     "text": [
      "Loss 0.5874919295310974 Val Loss 0.6044509410858154\n"
     ]
    },
    {
     "name": "stderr",
     "output_type": "stream",
     "text": [
      "100%|██████████| 98/98 [00:09<00:00,  9.80it/s]\n"
     ]
    },
    {
     "name": "stdout",
     "output_type": "stream",
     "text": [
      "Loss 0.5220450848340988 Val Loss 0.5627480745315552\n"
     ]
    },
    {
     "name": "stderr",
     "output_type": "stream",
     "text": [
      "100%|██████████| 98/98 [00:09<00:00,  9.84it/s]\n"
     ]
    },
    {
     "name": "stdout",
     "output_type": "stream",
     "text": [
      "Loss 0.4659455895423889 Val Loss 0.5351859331130981\n"
     ]
    },
    {
     "name": "stderr",
     "output_type": "stream",
     "text": [
      "100%|██████████| 98/98 [00:09<00:00,  9.83it/s]\n"
     ]
    },
    {
     "name": "stdout",
     "output_type": "stream",
     "text": [
      "Loss 0.48703823387622835 Val Loss 0.5403647422790527\n"
     ]
    },
    {
     "name": "stderr",
     "output_type": "stream",
     "text": [
      "100%|██████████| 98/98 [00:09<00:00, 10.78it/s]\n"
     ]
    },
    {
     "name": "stdout",
     "output_type": "stream",
     "text": [
      "Loss 0.6307250738143921 Val Loss 0.6407356858253479\n"
     ]
    },
    {
     "name": "stderr",
     "output_type": "stream",
     "text": [
      "100%|██████████| 98/98 [00:09<00:00, 10.13it/s]\n"
     ]
    },
    {
     "name": "stdout",
     "output_type": "stream",
     "text": [
      "Loss 0.5823529064655304 Val Loss 0.6258018612861633\n"
     ]
    }
   ],
   "source": [
    "from tqdm import tqdm\n",
    "from torchmetrics.classification import Accuracy, F1Score\n",
    "\n",
    "n_epochs=8\n",
    "test_loss=[]\n",
    "train_loss=[]\n",
    "\n",
    "model=SimpleRNNClassifier(vocab_size=vocab_size,embed_dim=50,output_dim=1,pad_index=0)\n",
    "optimizer = optim.Adam(model.parameters(), lr=0.001)\n",
    "loss_fn= torch.nn.BCELoss()\n",
    "\n",
    "for epoch in range(n_epochs):\n",
    "    model.train()\n",
    "    _loss=[]\n",
    "    for batch in tqdm(train_dataloader):\n",
    "        optimizer.zero_grad()\n",
    "        output=model(batch['input_ids'])\n",
    "        loss = loss_fn(output, batch['labels'].float())\n",
    "        loss.backward()\n",
    "        optimizer.step()\n",
    "        _loss.append(loss.item())\n",
    "    train_loss.append(np.mean(_loss[-10:]))\n",
    "    model.eval()\n",
    "    with torch.no_grad():\n",
    "        test_pred,test_label=zip(*[(model(test_batch['input_ids']),test_batch['labels']) for test_batch in test_dataloader])\n",
    "        test_pred=torch.cat(test_pred)\n",
    "        test_label=torch.cat(test_label).float()\n",
    "        test_loss.append(loss_fn(test_pred,test_label).item())\n",
    "        \n",
    "    print(\"Loss\",train_loss[-1],\"Val Loss\",test_loss[-1])\n",
    "\n",
    "\n"
   ]
  },
  {
   "cell_type": "code",
   "execution_count": 17,
   "id": "a5820c11-4784-4fcc-8beb-e40ba3b09ad1",
   "metadata": {},
   "outputs": [
    {
     "name": "stdout",
     "output_type": "stream",
     "text": [
      "Accuracy tensor(0.6726)\n",
      "F1 tensor(0.6351)\n"
     ]
    },
    {
     "data": {
      "image/png": "[encoded data removed]",
      "text/plain": [
       "<Figure size 640x480 with 1 Axes>"
      ]
     },
     "metadata": {},
     "output_type": "display_data"
    }
   ],
   "source": [
    "import matplotlib.pyplot as plt\n",
    "accuracy = Accuracy(task=\"binary\")\n",
    "f1_score = F1Score(task=\"binary\")\n",
    "\n",
    "print(\"Accuracy\",accuracy(test_pred,test_label))\n",
    "print(\"F1\",f1_score(test_pred,test_label))\n",
    "\n",
    "plt.plot(train_loss)\n",
    "plt.plot(test_loss)\n",
    "plt.show()"
   ]
  },
  {
   "cell_type": "markdown",
   "id": "5cbaf7cb-8302-4110-8642-9eaf887ccd8f",
   "metadata": {},
   "source": [
    "# Exercise #1\n",
    "\n",
    "* Try it yourself, make up a short review of any movie you've seen and see what the model above predicts!\n",
    "\n",
    "## Steps\n",
    "* Write your review\n",
    "* Tokenize your review\n",
    "* Predict!\n"
   ]
  },
  {
   "cell_type": "code",
   "execution_count": 43,
   "id": "db71784f-1f97-4799-9ac2-86e255aa39be",
   "metadata": {},
   "outputs": [
    {
     "data": {
      "text/plain": [
       "{'input_ids': [101, 16269, 2011, 1996, 6474, 1016, 2003, 1037, 2200, 27768, 3185, 1012, 2009, 2003, 2422, 1011, 18627, 1998, 14125, 19566, 1996, 3110, 1997, 2621, 1010, 2013, 1996, 15251, 1997, 3920, 2336, 1010, 12908, 1010, 1998, 6001, 1012, 102], 'attention_mask': [1, 1, 1, 1, 1, 1, 1, 1, 1, 1, 1, 1, 1, 1, 1, 1, 1, 1, 1, 1, 1, 1, 1, 1, 1, 1, 1, 1, 1, 1, 1, 1, 1, 1, 1, 1, 1, 1]}"
      ]
     },
     "execution_count": 43,
     "metadata": {},
     "output_type": "execute_result"
    }
   ],
   "source": [
    "my_review = \"Cheaper by the Dozen 2 is a very timeless movie. It is light-hearted and accurately captures the feeling of summer, from the perspectives of younger children, teenagers, and adults.\"\n",
    "tokenized_review = tokenizer(my_review)\n",
    "tokenized_review"
   ]
  },
  {
   "cell_type": "code",
   "execution_count": 44,
   "id": "b3e63ea4-5580-4d35-8ccd-e022caf6a79a",
   "metadata": {},
   "outputs": [
    {
     "data": {
      "text/plain": [
       "0.7667133808135986"
      ]
     },
     "execution_count": 44,
     "metadata": {},
     "output_type": "execute_result"
    }
   ],
   "source": [
    "# torch.tensor([tokenized_review['input_ids']]).shape\n",
    "model(torch.tensor([tokenized_review['input_ids']])).item()"
   ]
  },
  {
   "cell_type": "markdown",
   "id": "4db3b0d0-5776-41cf-896d-a769968b6b84",
   "metadata": {},
   "source": [
    "# Question did the model predict correctly? "
   ]
  },
  {
   "cell_type": "markdown",
   "id": "dde00243-a1c4-4aa0-a65f-410e18d67a14",
   "metadata": {},
   "source": [
    "Yes, it predicted my review as a positive one."
   ]
  },
  {
   "cell_type": "markdown",
   "id": "c383420a-af32-4280-b983-73850bfe7790",
   "metadata": {},
   "source": [
    "# Exercise #2\n",
    "There are a number of things that could improve the performance of the model above\n",
    "\n",
    "1. The tokenizer is truncating to 100 tokens\n",
    "2. Their are many other kinds of models RNNs, GRUs, Transformers\n",
    "3. The model  only has one fully connected layer\n",
    "4. What devices is the code on?\n",
    "\n",
    "I've replicated the code below, and I would like you to try and improve the model by exploring at at least one of these issues\n",
    "\n",
    "## 510 - I would like you to achieve an accuracy of ~78% \n",
    "**Bonus** go for even higher. Note that this isn't easy. As a hint see: [Fine Tuning Example](https://colab.research.google.com/github/DhavalTaunk08/NLP_scripts/blob/master/sentiment_analysis_using_roberta.ipynb#scrollTo=HMqQTafXEaei)"
   ]
  },
  {
   "cell_type": "code",
   "execution_count": 61,
   "id": "9855b525-7368-4614-84a7-d0edc05f9b71",
   "metadata": {},
   "outputs": [
    {
     "data": {
      "text/plain": [
       "device(type='cuda')"
      ]
     },
     "execution_count": 61,
     "metadata": {},
     "output_type": "execute_result"
    }
   ],
   "source": [
    "device = torch.device(\"cuda\" if torch.cuda.is_available() else \"cpu\")\n",
    "device"
   ]
  },
  {
   "cell_type": "code",
   "execution_count": 79,
   "id": "66a60279-4b7a-4b2b-875f-4107fedee10d",
   "metadata": {},
   "outputs": [
    {
     "name": "stderr",
     "output_type": "stream",
     "text": [
      "100%|██████████| 98/98 [00:02<00:00, 37.41it/s]\n"
     ]
    },
    {
     "name": "stdout",
     "output_type": "stream",
     "text": [
      "Loss 0.6919757544994354 Val Loss 0.7149549126625061\n"
     ]
    },
    {
     "name": "stderr",
     "output_type": "stream",
     "text": [
      "100%|██████████| 98/98 [00:02<00:00, 40.50it/s]\n"
     ]
    },
    {
     "name": "stdout",
     "output_type": "stream",
     "text": [
      "Loss 0.6763667643070221 Val Loss 0.6372026205062866\n"
     ]
    },
    {
     "name": "stderr",
     "output_type": "stream",
     "text": [
      "100%|██████████| 98/98 [00:02<00:00, 40.52it/s]\n"
     ]
    },
    {
     "name": "stdout",
     "output_type": "stream",
     "text": [
      "Loss 0.6385047018527985 Val Loss 0.5910970568656921\n"
     ]
    },
    {
     "name": "stderr",
     "output_type": "stream",
     "text": [
      "100%|██████████| 98/98 [00:02<00:00, 40.40it/s]\n"
     ]
    },
    {
     "name": "stdout",
     "output_type": "stream",
     "text": [
      "Loss 0.5938753962516785 Val Loss 0.5329702496528625\n"
     ]
    },
    {
     "name": "stderr",
     "output_type": "stream",
     "text": [
      "100%|██████████| 98/98 [00:02<00:00, 40.43it/s]\n"
     ]
    },
    {
     "name": "stdout",
     "output_type": "stream",
     "text": [
      "Loss 0.5597018361091614 Val Loss 0.47109439969062805\n"
     ]
    }
   ],
   "source": [
    "my_imdb = load_dataset(\"imdb\")\n",
    "my_tokenizer = AutoTokenizer.from_pretrained(\"distilbert/distilbert-base-uncased\")\n",
    "\n",
    "def my_tokenize_function(examples):\n",
    "    return my_tokenizer(examples[\"text\"], truncation=True, max_length=100)\n",
    "    \n",
    "my_imdb = my_imdb.map(my_tokenize_function, batched=True)\n",
    "\n",
    "vocab_size = my_tokenizer.vocab_size\n",
    "\n",
    "data_collator = DataCollatorWithPadding(tokenizer=my_tokenizer)\n",
    "\n",
    "my_train_dataloader = DataLoader(my_imdb['train'].remove_columns(\"text\"), shuffle=True, batch_size=256,collate_fn=data_collator)\n",
    "my_test_dataloader = DataLoader(my_imdb['test'].remove_columns(\"text\"), shuffle=False, batch_size=256,collate_fn=data_collator)\n",
    "\n",
    "\n",
    "\n",
    "n_epochs=5\n",
    "test_loss=[]\n",
    "train_loss=[]\n",
    "\n",
    "\n",
    "class MyClassifier(nn.Module):\n",
    "    def __init__(self, vocab_size, embed_dim, output_dim,pad_index):\n",
    "        super().__init__()\n",
    "        self.embedding = nn.Embedding(vocab_size, embed_dim, padding_idx=pad_index)        \n",
    "        self.rnn = nn.LSTM(embed_dim, embed_dim, batch_first=True,dropout=0.0)\n",
    "        \n",
    "        self.fc = nn.Linear(embed_dim, output_dim)\n",
    "    \n",
    "    def forward(self, x):\n",
    "        embedding=self.embedding(x)\n",
    "        output, states = self.rnn(embedding)\n",
    "        output=self.fc(output[:,-1,:]).squeeze()\n",
    "        return torch.nn.functional.sigmoid(output)\n",
    "\n",
    "\n",
    "\n",
    "my_model=MyClassifier(vocab_size=vocab_size,embed_dim=50,output_dim=1,pad_index=0)\n",
    "my_model.to(device)\n",
    "optimizer = optim.Adam(my_model.parameters(), lr=0.0005)\n",
    "loss_fn= torch.nn.BCELoss()\n",
    "\n",
    "for epoch in range(n_epochs):\n",
    "    my_model.train()\n",
    "    _loss=[]\n",
    "    for batch in tqdm(my_train_dataloader):\n",
    "        batch.to(device)\n",
    "        optimizer.zero_grad()\n",
    "        output=my_model(batch['input_ids'])\n",
    "        loss = loss_fn(output, batch['labels'].float())\n",
    "        loss.backward()\n",
    "        optimizer.step()\n",
    "        _loss.append(loss.item())\n",
    "    train_loss.append(np.mean(_loss[-10:]))\n",
    "    my_model.eval()\n",
    "    with torch.no_grad():\n",
    "        for test_batch in my_test_dataloader:\n",
    "            test_batch = test_batch.to(device)\n",
    "            test_pred,test_label=zip((my_model(test_batch['input_ids']),test_batch['labels']))\n",
    "        test_pred=torch.cat(test_pred)\n",
    "        test_label=torch.cat(test_label).float()\n",
    "        test_loss.append(loss_fn(test_pred,test_label).item())\n",
    "        \n",
    "    print(\"Loss\",train_loss[-1],\"Val Loss\",test_loss[-1])"
   ]
  },
  {
   "cell_type": "markdown",
   "id": "0d2e66b1-e898-414d-8fe6-62852f2a4f66",
   "metadata": {},
   "source": [
    "# Make sure your accuracy shows up below"
   ]
  },
  {
   "cell_type": "code",
   "execution_count": 81,
   "id": "2d76a01b-31a5-46bb-aea6-9272682fe2e8",
   "metadata": {},
   "outputs": [
    {
     "data": {
      "image/png": "[encoded data removed]",
      "text/plain": [
       "<Figure size 640x480 with 1 Axes>"
      ]
     },
     "metadata": {},
     "output_type": "display_data"
    },
    {
     "name": "stdout",
     "output_type": "stream",
     "text": [
      "Accuracy: 0.8392857142857143\n",
      "F1 Score: 0.9126213592233009\n"
     ]
    }
   ],
   "source": [
    "# print(\"Accuracy\",accuracy(test_pred,test_label))\n",
    "# print(\"F1\",f1_score(test_pred,test_label))\n",
    "\n",
    "plt.plot(train_loss)\n",
    "plt.plot(test_loss)\n",
    "plt.show()\n",
    "\n",
    "# Move tensors to CPU before converting to NumPy arrays\n",
    "test_pred_cpu = test_pred.cpu().detach().numpy()\n",
    "test_label_cpu = test_label.cpu().detach().numpy()\n",
    "\n",
    "# Calculate accuracy and F1 score\n",
    "accuracy_score_value = accuracy_score(test_label_cpu, test_pred_cpu.round())\n",
    "f1 = f1_score(test_label_cpu, test_pred_cpu.round())\n",
    "\n",
    "print(\"Accuracy:\", accuracy_score_value)\n",
    "print(\"F1 Score:\", f1)"
   ]
  },
  {
   "cell_type": "markdown",
   "id": "bbec4806-186f-45df-b46e-1f1d94bf9ea8",
   "metadata": {},
   "source": [
    "# Q. What did you fix and how well did it work?"
   ]
  },
  {
   "cell_type": "markdown",
   "id": "7f636d0a-7431-48d9-8908-4c1fbc4bcd0c",
   "metadata": {},
   "source": [
    "I changed model to cuda, and had to move the tensors to CPU before converting them to numpy arrays. I also decreased the batch size from .001 to .0005, which seemed to improve the model. "
   ]
  },
  {
   "cell_type": "code",
   "execution_count": null,
   "id": "0afdb41b-6911-4f23-bb89-a8c38ef717d9",
   "metadata": {},
   "outputs": [],
   "source": []
  }
 ],
 "metadata": {
  "kernelspec": {
   "display_name": "Python 3 (ipykernel)",
   "language": "python",
   "name": "python3"
  },
  "language_info": {
   "codemirror_mode": {
    "name": "ipython",
    "version": 3
   },
   "file_extension": ".py",
   "mimetype": "text/x-python",
   "name": "python",
   "nbconvert_exporter": "python",
   "pygments_lexer": "ipython3",
   "version": "3.8.16"
  }
 },
 "nbformat": 4,
 "nbformat_minor": 5
}
