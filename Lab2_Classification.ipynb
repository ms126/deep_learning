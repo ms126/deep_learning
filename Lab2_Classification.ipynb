{
 "cells": [
  {
   "cell_type": "markdown",
   "metadata": {
    "id": "guPXpfrc-XZb"
   },
   "source": [
    "# Goals\n",
    "\n",
    "Dense Neural Networks are an essential building block used in Deep Learning for image analysis. Our goals here are:\n",
    "* Learn how to use a Neural Network in Classification\n",
    "* Use a Neural Network to predict good wine"
   ]
  },
  {
   "cell_type": "markdown",
   "metadata": {},
   "source": [
    "# Install some packages for plotting and evaluation\n",
    "This will re-start your kernel if the packages can't be loaded"
   ]
  },
  {
   "cell_type": "code",
   "execution_count": 1,
   "metadata": {},
   "outputs": [
    {
     "name": "stdout",
     "output_type": "stream",
     "text": [
      "Defaulting to user installation because normal site-packages is not writeable\n",
      "Requirement already satisfied: seaborn in /gpfs/home/msuresh/.local/lib/python3.8/site-packages (0.13.2)\n",
      "Requirement already satisfied: numpy!=1.24.0,>=1.20 in /gpfs/packages/miniconda-t2/20230523/envs/jupyter-cuda121-20230610/lib/python3.8/site-packages (from seaborn) (1.24.3)\n",
      "Requirement already satisfied: pandas>=1.2 in /gpfs/packages/miniconda-t2/20230523/envs/jupyter-cuda121-20230610/lib/python3.8/site-packages (from seaborn) (2.0.2)\n",
      "Requirement already satisfied: matplotlib!=3.6.1,>=3.4 in /gpfs/packages/miniconda-t2/20230523/envs/jupyter-cuda121-20230610/lib/python3.8/site-packages (from seaborn) (3.7.1)\n",
      "Requirement already satisfied: contourpy>=1.0.1 in /gpfs/packages/miniconda-t2/20230523/envs/jupyter-cuda121-20230610/lib/python3.8/site-packages (from matplotlib!=3.6.1,>=3.4->seaborn) (1.0.7)\n",
      "Requirement already satisfied: cycler>=0.10 in /gpfs/packages/miniconda-t2/20230523/envs/jupyter-cuda121-20230610/lib/python3.8/site-packages (from matplotlib!=3.6.1,>=3.4->seaborn) (0.11.0)\n",
      "Requirement already satisfied: fonttools>=4.22.0 in /gpfs/packages/miniconda-t2/20230523/envs/jupyter-cuda121-20230610/lib/python3.8/site-packages (from matplotlib!=3.6.1,>=3.4->seaborn) (4.39.4)\n",
      "Requirement already satisfied: kiwisolver>=1.0.1 in /gpfs/packages/miniconda-t2/20230523/envs/jupyter-cuda121-20230610/lib/python3.8/site-packages (from matplotlib!=3.6.1,>=3.4->seaborn) (1.4.4)\n",
      "Requirement already satisfied: packaging>=20.0 in /gpfs/packages/miniconda-t2/20230523/envs/jupyter-cuda121-20230610/lib/python3.8/site-packages (from matplotlib!=3.6.1,>=3.4->seaborn) (23.1)\n",
      "Requirement already satisfied: pillow>=6.2.0 in /gpfs/packages/miniconda-t2/20230523/envs/jupyter-cuda121-20230610/lib/python3.8/site-packages (from matplotlib!=3.6.1,>=3.4->seaborn) (9.4.0)\n",
      "Requirement already satisfied: pyparsing>=2.3.1 in /gpfs/packages/miniconda-t2/20230523/envs/jupyter-cuda121-20230610/lib/python3.8/site-packages (from matplotlib!=3.6.1,>=3.4->seaborn) (3.0.9)\n",
      "Requirement already satisfied: python-dateutil>=2.7 in /gpfs/packages/miniconda-t2/20230523/envs/jupyter-cuda121-20230610/lib/python3.8/site-packages (from matplotlib!=3.6.1,>=3.4->seaborn) (2.8.2)\n",
      "Requirement already satisfied: importlib-resources>=3.2.0 in /gpfs/packages/miniconda-t2/20230523/envs/jupyter-cuda121-20230610/lib/python3.8/site-packages (from matplotlib!=3.6.1,>=3.4->seaborn) (5.12.0)\n",
      "Requirement already satisfied: pytz>=2020.1 in /gpfs/packages/miniconda-t2/20230523/envs/jupyter-cuda121-20230610/lib/python3.8/site-packages (from pandas>=1.2->seaborn) (2023.3)\n",
      "Requirement already satisfied: tzdata>=2022.1 in /gpfs/packages/miniconda-t2/20230523/envs/jupyter-cuda121-20230610/lib/python3.8/site-packages (from pandas>=1.2->seaborn) (2023.3)\n",
      "Requirement already satisfied: zipp>=3.1.0 in /gpfs/packages/miniconda-t2/20230523/envs/jupyter-cuda121-20230610/lib/python3.8/site-packages (from importlib-resources>=3.2.0->matplotlib!=3.6.1,>=3.4->seaborn) (3.15.0)\n",
      "Requirement already satisfied: six>=1.5 in /gpfs/packages/miniconda-t2/20230523/envs/jupyter-cuda121-20230610/lib/python3.8/site-packages (from python-dateutil>=2.7->matplotlib!=3.6.1,>=3.4->seaborn) (1.16.0)\n",
      "Defaulting to user installation because normal site-packages is not writeable\n",
      "Requirement already satisfied: torchmetrics in /gpfs/home/msuresh/.local/lib/python3.8/site-packages (1.5.2)\n",
      "Requirement already satisfied: numpy>1.20.0 in /gpfs/packages/miniconda-t2/20230523/envs/jupyter-cuda121-20230610/lib/python3.8/site-packages (from torchmetrics) (1.24.3)\n",
      "Requirement already satisfied: packaging>17.1 in /gpfs/packages/miniconda-t2/20230523/envs/jupyter-cuda121-20230610/lib/python3.8/site-packages (from torchmetrics) (23.1)\n",
      "Requirement already satisfied: torch>=1.10.0 in /gpfs/packages/miniconda-t2/20230523/envs/jupyter-cuda121-20230610/lib/python3.8/site-packages (from torchmetrics) (2.1.0.dev20230610)\n",
      "Requirement already satisfied: lightning-utilities>=0.8.0 in /gpfs/home/msuresh/.local/lib/python3.8/site-packages (from torchmetrics) (0.11.9)\n",
      "Requirement already satisfied: typing-extensions in /gpfs/packages/miniconda-t2/20230523/envs/jupyter-cuda121-20230610/lib/python3.8/site-packages (from torchmetrics) (4.6.3)\n",
      "Requirement already satisfied: setuptools in /gpfs/packages/miniconda-t2/20230523/envs/jupyter-cuda121-20230610/lib/python3.8/site-packages (from lightning-utilities>=0.8.0->torchmetrics) (67.7.2)\n",
      "Requirement already satisfied: filelock in /gpfs/packages/miniconda-t2/20230523/envs/jupyter-cuda121-20230610/lib/python3.8/site-packages (from torch>=1.10.0->torchmetrics) (3.12.1)\n",
      "Requirement already satisfied: sympy in /gpfs/packages/miniconda-t2/20230523/envs/jupyter-cuda121-20230610/lib/python3.8/site-packages (from torch>=1.10.0->torchmetrics) (1.12)\n",
      "Requirement already satisfied: networkx in /gpfs/packages/miniconda-t2/20230523/envs/jupyter-cuda121-20230610/lib/python3.8/site-packages (from torch>=1.10.0->torchmetrics) (3.1)\n",
      "Requirement already satisfied: jinja2 in /gpfs/packages/miniconda-t2/20230523/envs/jupyter-cuda121-20230610/lib/python3.8/site-packages (from torch>=1.10.0->torchmetrics) (3.1.2)\n",
      "Requirement already satisfied: fsspec in /gpfs/home/msuresh/.local/lib/python3.8/site-packages (from torch>=1.10.0->torchmetrics) (2024.12.0)\n",
      "Requirement already satisfied: MarkupSafe>=2.0 in /gpfs/packages/miniconda-t2/20230523/envs/jupyter-cuda121-20230610/lib/python3.8/site-packages (from jinja2->torch>=1.10.0->torchmetrics) (2.1.3)\n",
      "Requirement already satisfied: mpmath>=0.19 in /gpfs/packages/miniconda-t2/20230523/envs/jupyter-cuda121-20230610/lib/python3.8/site-packages (from sympy->torch>=1.10.0->torchmetrics) (1.3.0)\n",
      "Defaulting to user installation because normal site-packages is not writeable\n",
      "Requirement already satisfied: matplotlib in /gpfs/packages/miniconda-t2/20230523/envs/jupyter-cuda121-20230610/lib/python3.8/site-packages (3.7.1)\n",
      "Requirement already satisfied: contourpy>=1.0.1 in /gpfs/packages/miniconda-t2/20230523/envs/jupyter-cuda121-20230610/lib/python3.8/site-packages (from matplotlib) (1.0.7)\n",
      "Requirement already satisfied: cycler>=0.10 in /gpfs/packages/miniconda-t2/20230523/envs/jupyter-cuda121-20230610/lib/python3.8/site-packages (from matplotlib) (0.11.0)\n",
      "Requirement already satisfied: fonttools>=4.22.0 in /gpfs/packages/miniconda-t2/20230523/envs/jupyter-cuda121-20230610/lib/python3.8/site-packages (from matplotlib) (4.39.4)\n",
      "Requirement already satisfied: kiwisolver>=1.0.1 in /gpfs/packages/miniconda-t2/20230523/envs/jupyter-cuda121-20230610/lib/python3.8/site-packages (from matplotlib) (1.4.4)\n",
      "Requirement already satisfied: numpy>=1.20 in /gpfs/packages/miniconda-t2/20230523/envs/jupyter-cuda121-20230610/lib/python3.8/site-packages (from matplotlib) (1.24.3)\n",
      "Requirement already satisfied: packaging>=20.0 in /gpfs/packages/miniconda-t2/20230523/envs/jupyter-cuda121-20230610/lib/python3.8/site-packages (from matplotlib) (23.1)\n",
      "Requirement already satisfied: pillow>=6.2.0 in /gpfs/packages/miniconda-t2/20230523/envs/jupyter-cuda121-20230610/lib/python3.8/site-packages (from matplotlib) (9.4.0)\n",
      "Requirement already satisfied: pyparsing>=2.3.1 in /gpfs/packages/miniconda-t2/20230523/envs/jupyter-cuda121-20230610/lib/python3.8/site-packages (from matplotlib) (3.0.9)\n",
      "Requirement already satisfied: python-dateutil>=2.7 in /gpfs/packages/miniconda-t2/20230523/envs/jupyter-cuda121-20230610/lib/python3.8/site-packages (from matplotlib) (2.8.2)\n",
      "Requirement already satisfied: importlib-resources>=3.2.0 in /gpfs/packages/miniconda-t2/20230523/envs/jupyter-cuda121-20230610/lib/python3.8/site-packages (from matplotlib) (5.12.0)\n",
      "Requirement already satisfied: zipp>=3.1.0 in /gpfs/packages/miniconda-t2/20230523/envs/jupyter-cuda121-20230610/lib/python3.8/site-packages (from importlib-resources>=3.2.0->matplotlib) (3.15.0)\n",
      "Requirement already satisfied: six>=1.5 in /gpfs/packages/miniconda-t2/20230523/envs/jupyter-cuda121-20230610/lib/python3.8/site-packages (from python-dateutil>=2.7->matplotlib) (1.16.0)\n"
     ]
    }
   ],
   "source": [
    "import os\n",
    "!pip install seaborn\n",
    "!pip install torchmetrics\n",
    "!pip install matplotlib\n",
    "\n",
    "try:\n",
    "    import matplotlib.pyplot as plt\n",
    "    import seaborn as sns\n",
    "    from torchmetrics.classification import Accuracy, F1Score\n",
    "except:\n",
    "    os._exit(00)\n",
    "\n"
   ]
  },
  {
   "cell_type": "code",
   "execution_count": 2,
   "metadata": {
    "id": "3-6LF7Ub-XZc"
   },
   "outputs": [],
   "source": [
    "import torch\n",
    "import numpy as np\n",
    "import matplotlib.pyplot as plt\n",
    "from tqdm import tqdm"
   ]
  },
  {
   "cell_type": "markdown",
   "metadata": {
    "id": "plyqex0Y-XZd"
   },
   "source": [
    "# Classification\n",
    "\n",
    "Classification is a problem where each of our examples (x) belongs to a class (y). Since Neural networks are universal function approximators, we can use\n",
    "\n",
    "$P(y|x)$\n",
    "\n",
    "\n",
    "\n",
    "## Binary Classification\n",
    "When we just have 2 classes (A or B/True or False) then we only need to predict the probability of one since\n",
    "\n",
    "$P(y=b|x)$=1-$P(y=a|x)$\n",
    "\n",
    "Our network inputs are our features, and our network output is $P(y=a|x)$.\n",
    "\n",
    "**Important:** We need to use the correct activation function and the correct loss function. We know $y_{pred}$\n",
    "is between zero and one, so we can add a 'sigmoid' activation\n",
    "\n",
    "\n",
    "$\\sigma(x)=\\frac{1}{1+e^{-x}}$\n",
    "\n",
    "<img src='https://raw.githubusercontent.com/jsearcy1/DNNWS_2022/refs/heads/develop/assets/sigmoid.png'>\n",
    "\n",
    "For the loss function we use something called binary cross-entropy, which uses our labels (0 or 1) to train our network.\n",
    "\n",
    "$L=\\frac{1}{N}*\\sum_i(-y_{true,i}*ln(y_{pred,i})-(1-y_{true,i})*ln(1-y_{pred,i}))$\n",
    "\n",
    "Since our labels are only 0 or 1 this loss will\n",
    "* Make $-1*ln(y_{pred})$ as small as possible ($y_{pred}=1$) when $y_{true}=1$\n",
    "* Make $-1*ln(1-y_{pred})$ as small as possible ($y_{pred}=0$) when $y_{true}=0$\n",
    "\n",
    "\n",
    "\n",
    "\n",
    "## If you're curious\n",
    "\n",
    "This is essentially the negative log likelihood of a Bernoulli distribution\n",
    "\n",
    "$P(y,p)=p^{y}(1-p)^{1-y}$\n",
    "\n",
    "$-ln(P(y,p))=-ln(p^{y}(1-p)^{1-y})= -y*ln(p)-(1-y)*ln(1-p)$\n",
    "\n",
    "# What it Means for our Neural Network\n",
    "\n",
    "* When we build our model we need to use a sigmoid activation on the last layer, this often happens in the **forward** function\n",
    "\n",
    "\n",
    "    x=torch.nn.functional.sigmoid(x)\n",
    "    output=tf.keras.layers.Dense(1,activation='sigmoid')\n",
    "\n",
    "    and we will use the following loss\n",
    "\n",
    "    loss_fn= torch.nn.BCELoss()\n",
    "\n"
   ]
  },
  {
   "cell_type": "markdown",
   "metadata": {},
   "source": [
    "## Define some tools to train and plot\n",
    "1. don't worry about going through this now, we'll go through the steps later"
   ]
  },
  {
   "cell_type": "code",
   "execution_count": 3,
   "metadata": {
    "id": "uT-WLrMk-v4t"
   },
   "outputs": [],
   "source": [
    "from torch.utils.data.dataset import random_split\n",
    "from torch.utils.data import DataLoader, TensorDataset, Subset\n",
    "\n",
    "\n",
    "\n",
    "def evaluate(model,data_loader):\n",
    "    with torch.no_grad():\n",
    "        prediction=[]\n",
    "        target=[]\n",
    "        input_1d=[]\n",
    "        for x_batch,y_batch in data_loader:\n",
    "            prediction.append(model(x_batch))\n",
    "            target.append(y_batch)\n",
    "            input_1d.append(x_batch[:,0:1])\n",
    "        #combine\n",
    "        y_pred=torch.cat(prediction,dim=0)\n",
    "        y_true=torch.cat(target,dim=0)\n",
    "        x_in=torch.cat(input_1d,dim=0)\n",
    "    return y_pred,y_true,x_in\n",
    "\n",
    "def fit_np_ds(model,x,y,n_epochs=10,lr=1e-2):\n",
    "    # Split Dataset\n",
    "    dataset=TensorDataset(torch.Tensor(x).float(),torch.Tensor(y).float())\n",
    "    train_size = int(0.6 * len(dataset))\n",
    "    val_size = int(0.2 * len(dataset))\n",
    "    test_size = len(dataset) - train_size - val_size\n",
    "\n",
    "    train_dataset, val_dataset,test_dataset = random_split(dataset, [train_size, val_size,test_size])\n",
    "\n",
    "    # Make Data Loaders\n",
    "\n",
    "    batch_size = 64\n",
    "    train_loader = DataLoader(train_dataset, batch_size=batch_size, shuffle=True)\n",
    "    val_loader = DataLoader(val_dataset, batch_size=batch_size, shuffle=False)\n",
    "\n",
    "    # Make optimizer\n",
    "    optimizer = torch.optim.Adam(model.parameters(), lr=lr)\n",
    "    if len(y.shape)==1 or y.shape[1]==1:\n",
    "      loss_fn= torch.nn.BCELoss() # This is usefult, but you use your own equations too!\n",
    "    else:\n",
    "      loss_fn= torch.nn.CrossEntropyLoss()\n",
    "    #Fit\n",
    "\n",
    "    loss_vals=[]\n",
    "    val_loss_values=[]\n",
    "    train_loss_values=[]\n",
    "\n",
    "    for _epoch in tqdm(range(n_epochs)):\n",
    "        model.train()\n",
    "        for x_batch,y_batch in train_loader:\n",
    "          optimizer.zero_grad()\n",
    "          y_pred = model(x_batch).squeeze()\n",
    "\n",
    "          loss = loss_fn(y_pred,y_batch)\n",
    "          loss.backward()\n",
    "          loss_vals.append(loss.item())\n",
    "          optimizer.step()\n",
    "\n",
    "    # Eval\n",
    "        model.eval()\n",
    "        y_pred,y_true,x_in=evaluate(model,val_loader)\n",
    "\n",
    "        val_loss_values.append(loss_fn(y_pred.squeeze(),y_true))\n",
    "        train_loss_values.append(np.mean(loss_vals[-10:]))\n",
    "\n",
    "    y_pred,y_true,x_in=evaluate(model,val_loader)\n",
    "    ytr_pred,ytr_true,xtr_in=evaluate(model,train_loader)\n",
    "\n",
    "    return {'val_loss':val_loss_values,'loss':train_loss_values,'y_pred':y_pred,'y_true':y_true}\n",
    "\n",
    "#    plt.plot(val_loss_values,label='Val. Loss')\n",
    "#    plt.plot(train_loss_values,label='Train Loss')\n",
    "#    plt.yscale('log')\n",
    "#    plt.legend()\n",
    "#    plt.show()\n",
    "\n"
   ]
  },
  {
   "cell_type": "code",
   "execution_count": 4,
   "metadata": {
    "id": "zEESpIa0-XZe"
   },
   "outputs": [],
   "source": [
    "#Make a test datasets with 2 class labels\n",
    "\n",
    "#Class A\n",
    "n_data=10000\n",
    "\n",
    "x=np.random.normal(1,1,size=n_data)\n",
    "y=np.ones(n_data) #Class A =1\n",
    "\n",
    "#Class B\n",
    "x=np.append(x,np.random.normal(-1,1,size=n_data))\n",
    "y=np.append(y,np.zeros(n_data)) #Class B=0\n",
    "\n",
    "\n",
    "\n",
    "\n",
    "\n",
    "\n"
   ]
  },
  {
   "cell_type": "markdown",
   "metadata": {
    "id": "UkNOzoNT-XZe"
   },
   "source": [
    "# A simple way to look at a feature is a histogram\n",
    "Plot how many times does class A have a feature value within a bin\n"
   ]
  },
  {
   "cell_type": "code",
   "execution_count": 5,
   "metadata": {
    "colab": {
     "base_uri": "https://localhost:8080/",
     "height": 449
    },
    "id": "bf3gQYvm-XZf",
    "outputId": "e9718c3d-8976-416e-9ef9-188fa613b635"
   },
   "outputs": [
    {
     "data": {
      "image/png": "[encoded data removed]",
      "text/plain": [
       "<Figure size 640x480 with 1 Axes>"
      ]
     },
     "metadata": {},
     "output_type": "display_data"
    }
   ],
   "source": [
    "#Histogram for class A\n",
    "a_mask=y==1\n",
    "plt.hist(x[a_mask],bins=16,range=(-4,4),histtype='step',label='Class A')\n",
    "\n",
    "#Histogram for Class B\n",
    "b_mask=y==0\n",
    "plt.hist(x[b_mask],bins=16,range=(-4,4),histtype='step',label='Class B')\n",
    "\n",
    "plt.hist(x,bins=16,range=(-4,4),histtype='step',label='Input Data')\n",
    "\n",
    "plt.xlabel('X')\n",
    "plt.ylabel('N Examples')\n",
    "plt.legend()\n",
    "plt.show()"
   ]
  },
  {
   "cell_type": "code",
   "execution_count": 6,
   "metadata": {
    "colab": {
     "base_uri": "https://localhost:8080/"
    },
    "id": "QvSqSWm2-XZf",
    "outputId": "f727871e-8ef5-4e59-f323-0b94246011c8"
   },
   "outputs": [
    {
     "name": "stderr",
     "output_type": "stream",
     "text": [
      "100%|██████████| 20/20 [00:03<00:00,  6.13it/s]\n"
     ]
    }
   ],
   "source": [
    "\n",
    "class BinaryClassifier(torch.nn.Module):\n",
    "\n",
    "    def __init__(self,input_size=1):\n",
    "        super(BinaryClassifier, self).__init__()\n",
    "        self.input_layer = torch.nn.Linear(input_size, 20)\n",
    "        self.dense_1 = torch.nn.Linear(20, 20)\n",
    "        self.output = torch.nn.Linear(20, 1)\n",
    "\n",
    "        self.act=torch.nn.LeakyReLU()\n",
    "\n",
    "    def forward(self, x):\n",
    "        x = self.input_layer(x)\n",
    "        x = self.act(x)\n",
    "        x = self.dense_1(x)\n",
    "        x = self.act(x)\n",
    "        x = self.output(x)\n",
    "        x=torch.nn.functional.sigmoid(x) #Sigmoid activation\n",
    "        return x\n",
    "\n",
    "nn_model=BinaryClassifier()\n",
    "out=fit_np_ds(nn_model,x[:,None],y[:],n_epochs=20)\n"
   ]
  },
  {
   "cell_type": "code",
   "execution_count": 7,
   "metadata": {
    "colab": {
     "base_uri": "https://localhost:8080/",
     "height": 449
    },
    "id": "Z1S-OP56-XZg",
    "outputId": "f2900cd5-7356-43e6-9dd9-5217ec6cd89a"
   },
   "outputs": [
    {
     "data": {
      "image/png": "[encoded data removed]",
      "text/plain": [
       "<Figure size 640x480 with 1 Axes>"
      ]
     },
     "metadata": {},
     "output_type": "display_data"
    }
   ],
   "source": [
    "\n",
    "X_test=np.linspace(-4,4,100)\n",
    "Y_true=1/(1+np.exp(-2*X_test))#Proof Left to Reader\n",
    "\n",
    "Y_pred=nn_model(torch.Tensor(X_test[:,None]).float()).detach().numpy()\n",
    "plt.scatter(X_test,Y_pred,label='prediction',marker='x')\n",
    "plt.scatter(X_test,Y_true,label='Truth',marker='+')\n",
    "\n",
    "plt.xlabel('X')\n",
    "plt.ylabel('P(y=a|x)')\n",
    "\n",
    "plt.hist(x[b_mask],bins=16,range=(-4,4),histtype='step',label='Class B',density=True)\n",
    "plt.hist(x[a_mask],bins=16,range=(-4,4),histtype='step',label='Class A',density=True)\n",
    "\n",
    "plt.legend()\n",
    "plt.show()"
   ]
  },
  {
   "cell_type": "markdown",
   "metadata": {
    "id": "iALiwyvT-XZg"
   },
   "source": [
    "# Classification - Multi-Class\n",
    "\n",
    "\n",
    "\n",
    "\n"
   ]
  },
  {
   "cell_type": "code",
   "execution_count": 8,
   "metadata": {
    "id": "tviRWoWX-XZh"
   },
   "outputs": [],
   "source": [
    "#Class A\n",
    "n_data=10000\n",
    "\n",
    "y=np.ones(n_data) #Class A =1\n",
    "x=np.random.normal(1,1,size=(n_data,1))\n",
    "\n",
    "#Class B\n",
    "y=np.append(y,np.zeros(n_data)) #Class B=0\n",
    "x=np.append(x,np.random.normal(-1,1,size=(n_data,1)))\n",
    "\n",
    "#Class B\n",
    "y=np.append(y,np.ones(n_data)*2) #Class B=0\n",
    "x=np.append(x,np.random.normal(-3,1,size=(n_data,1)))\n",
    "\n",
    "\n"
   ]
  },
  {
   "cell_type": "code",
   "execution_count": 9,
   "metadata": {
    "colab": {
     "base_uri": "https://localhost:8080/",
     "height": 449
    },
    "id": "DbfHFEUI-XZh",
    "outputId": "05869e3a-3b01-455e-c386-0e917ca04d27"
   },
   "outputs": [
    {
     "data": {
      "image/png": "[encoded data removed]",
      "text/plain": [
       "<Figure size 640x480 with 1 Axes>"
      ]
     },
     "metadata": {},
     "output_type": "display_data"
    }
   ],
   "source": [
    "#Histogram for class A\n",
    "a_mask=y==1\n",
    "plt.hist(x.squeeze()[a_mask],bins=16,range=(-7,5),histtype='step',label='Class A')\n",
    "\n",
    "#Histogram for Class B\n",
    "b_mask=y==0\n",
    "plt.hist(x.squeeze()[b_mask],bins=16,range=(-7,5),histtype='step',label='Class B')\n",
    "\n",
    "#Histogram for Class C\n",
    "c_mask=y==2\n",
    "plt.hist(x.squeeze()[c_mask],bins=16,range=(-7,5),histtype='step',label='Class C')\n",
    "\n",
    "plt.hist(x.squeeze(),bins=16,range=(-7,5),histtype='step',label='Input Data')\n",
    "\n",
    "plt.xlabel('X')\n",
    "plt.ylabel('N Examples')\n",
    "plt.legend()\n",
    "plt.show()\n",
    "\n",
    "\n",
    "\n"
   ]
  },
  {
   "cell_type": "markdown",
   "metadata": {
    "id": "KXUI_6pB-XZi"
   },
   "source": [
    "# Multi Class Loss"
   ]
  },
  {
   "cell_type": "markdown",
   "metadata": {
    "id": "EqpU93iO-XZi"
   },
   "source": [
    "# Multi-Class Classification\n",
    "\n",
    "**Reminder**\n",
    "   * Classification is problem where each of our examples (x) belongs to a class (y). Since Neural networks are universal function approximators, we can use $P(y|x)$\n",
    "\n",
    "**Like before to change our problem we need**\n",
    "* The correct activation on our last layer - **softmax**\n",
    "* The correct loss function - **categorical_crossentropy**\n",
    "\n",
    "We have more than two classes (0,1,2...) and we need to predict the probability of all of them. However, we have a constraint that all the probabilities must sum to one.\n",
    "\n",
    "**Our network**\n",
    " * Inputs are our images\n",
    " * Output is a Dense layer with dimension equal to the number of classes\n",
    "     * Each output represents $\\{P(y=0|x),(y=1|x),(y=2|x)\\ ...\\}$.\n",
    " * We require $\\sum_i P(y=i|x) = 1$.\n",
    "\n",
    "* To enforce this we use a different activation function: a **softmax**\n",
    "\n",
    "    * $\\sigma(x)_i= \\frac{e^{x_i}}{\\sum_i e^{x_i}}$\n",
    "    \n",
    "* Our loss function becomes\n",
    "\n",
    " $L=-\\frac{1}{N}\\sum_i \\sum_n y_{true,i,n}*ln(y_{pred,i,n})$\n",
    "\n",
    "* What this means\n",
    "    * $y_{true,i,n}$ is a vector with a 1 in the dimention that example belongs to and a zero everywhere else\n",
    "        *  i.e. class 9/9 = (0,0,0,0,0,0,0,0,0,1)\n",
    "    * The sum in this loss term  $\\sum_n y_{true,i,n}*ln(y_{pred,i,n})$\n",
    "        * is zero except for the one value when n=class of $y_{true}$\n",
    "        * Then it's just $ln(y_{pred,i,n})$\n",
    "        * This is same as binary classfication: make -1*$ln(y_{pred,i,n})$ as small as possible\n",
    "\n"
   ]
  },
  {
   "cell_type": "markdown",
   "metadata": {
    "id": "_WG5sCIC-XZi"
   },
   "source": [
    "Our input data set has labels stored as integers, but the labels we need for our loss function need to be  **one-hot** encoded\n",
    "\n",
    "**one-hot** - A vector of zeros except for one entry with a 1 that represents the class of an object\n",
    "   * i.e. class 2 = (0,0,1)\n",
    "\n",
    "torch has a utility to convert integers like this easily."
   ]
  },
  {
   "cell_type": "code",
   "execution_count": 10,
   "metadata": {
    "id": "Cy9RLCs3-XZj"
   },
   "outputs": [],
   "source": [
    "y_one_hot = torch.nn.functional.one_hot(torch.Tensor(y).long(), num_classes=3)\n"
   ]
  },
  {
   "cell_type": "markdown",
   "metadata": {},
   "source": [
    "### You can do the inverse with argmax\n",
    "some functions want classes as interegers, and some one them as one-hot vectors, so it's helpful to be able to go back and forward."
   ]
  },
  {
   "cell_type": "code",
   "execution_count": 11,
   "metadata": {},
   "outputs": [
    {
     "name": "stdout",
     "output_type": "stream",
     "text": [
      "tensor([0, 1, 0])\n",
      "tensor(1)\n",
      "1.0\n"
     ]
    }
   ],
   "source": [
    "print(y_one_hot[0])\n",
    "print( torch.argmax(y_one_hot,dim=1)[0])\n",
    "print(y[0])"
   ]
  },
  {
   "cell_type": "markdown",
   "metadata": {},
   "source": [
    "# Multi-class Classifier Model\n",
    "* Remember the output size changes\n",
    "* Output activation changess"
   ]
  },
  {
   "cell_type": "code",
   "execution_count": 12,
   "metadata": {
    "colab": {
     "base_uri": "https://localhost:8080/"
    },
    "id": "eNb1Cgx6HSgY",
    "outputId": "3f40c04a-51b1-46ce-f0c6-e4ed03f19f4c"
   },
   "outputs": [
    {
     "name": "stderr",
     "output_type": "stream",
     "text": [
      "100%|██████████| 10/10 [00:02<00:00,  3.60it/s]\n"
     ]
    }
   ],
   "source": [
    "\n",
    "class MultiClassifier(torch.nn.Module):\n",
    "\n",
    "    def __init__(self,):\n",
    "        super(MultiClassifier, self).__init__()\n",
    "        self.input_layer = torch.nn.Linear(1, 20)\n",
    "        self.dense_1 = torch.nn.Linear(20, 20)\n",
    "        self.dense_2 = torch.nn.Linear(20, 20)\n",
    "        self.output = torch.nn.Linear(20, 3)\n",
    "        self.act=torch.nn.LeakyReLU()\n",
    "\n",
    "    def forward(self, x):\n",
    "        x = self.input_layer(x)\n",
    "        x = self.act(x)\n",
    "        x = self.dense_1(x)\n",
    "        x = self.act(x)\n",
    "        x = self.dense_2(x)\n",
    "        x = self. act(x)\n",
    "        x = self.output(x)\n",
    "        x=torch.nn.functional.softmax(x,dim=-1) #Sigmoid activation\n",
    "        return x\n",
    "\n",
    "multi_model=MultiClassifier()\n",
    "out=fit_np_ds(multi_model,x[:,None],y_one_hot[:])"
   ]
  },
  {
   "cell_type": "code",
   "execution_count": 13,
   "metadata": {
    "colab": {
     "base_uri": "https://localhost:8080/",
     "height": 449
    },
    "id": "BkkXU3KZ-XZj",
    "outputId": "8cacdca2-cf97-4762-e97e-3106afdacc70"
   },
   "outputs": [
    {
     "data": {
      "image/png": "[encoded data removed]",
      "text/plain": [
       "<Figure size 640x480 with 1 Axes>"
      ]
     },
     "metadata": {},
     "output_type": "display_data"
    }
   ],
   "source": [
    "X_test=np.linspace(-7,4,100)[:,None]\n",
    "#Y_true=1/(1+np.exp(-2*X_test))#Proof Left to Reader\n",
    "\n",
    "Y_pred=multi_model(torch.Tensor(X_test)).detach().numpy()\n",
    "\n",
    "\n",
    "plt.scatter(X_test,Y_pred[:,0],label='Prediction A',marker='x')\n",
    "plt.scatter(X_test,Y_pred[:,1],label='Prediction B',marker='x')\n",
    "plt.scatter(X_test,Y_pred[:,2],label='Prediction C',marker='x')\n",
    "\n",
    "\n",
    "plt.xlabel('X')\n",
    "plt.ylabel('P(y=a|x)')\n",
    "\n",
    "plt.hist(x[b_mask],bins=16,range=(-7,4),histtype='step',label='Class B',density=True)\n",
    "plt.hist(x[a_mask],bins=16,range=(-7,4),histtype='step',label='Class A',density=True)\n",
    "plt.hist(x[c_mask],bins=16,range=(-7,4),histtype='step',label='Class C',density=True)\n",
    "\n",
    "plt.legend()\n",
    "plt.show()"
   ]
  },
  {
   "cell_type": "markdown",
   "metadata": {
    "id": "ET7TXdVm-XZj"
   },
   "source": [
    "# Dense/Linear network summary\n",
    "\n",
    "* Dense networks take fixed length input and have a fixed length output\n",
    "* Like All Neural Network layers they require an activation function\n",
    "    * The activation of the last layer is usally determined by the goal\n",
    "        * Regression - Linear\n",
    "        * Classification - Sigmoid\n",
    "        * Multi-Class Classification - Softmax (more later)\n",
    "* They can be stacked to represent more complicated functions\n",
    "* You're taking your chances when predicting data that's very different from you're training data\n"
   ]
  },
  {
   "cell_type": "markdown",
   "metadata": {
    "id": "2RTpBqsr-XZj"
   },
   "source": [
    "# A Real World Example\n",
    "We're going to use a number of measured values to try and predict good wine.\n",
    "Source:https://archive.ics.uci.edu/ml/datasets/Wine+Quality (Cortez et al., 2009)\n",
    "\n",
    "* Goal: Predict whether a wine is excellent based score given to the wine by an expert panel (1-10)\n",
    "    * Score > 5 Excellent\n",
    "    * Score <=5 Average\n",
    "\n",
    "* Features:\n",
    "  * 1 - fixed acidity\n",
    "  * 2 - volatile acidity\n",
    "  * 3 - citric acid\n",
    "  * 4 - residual sugar\n",
    "  * 5 - chlorides\n",
    "  * 6 - free sulfur dioxide\n",
    "  * 7 - total sulfur dioxide\n",
    "  * 8 - density\n",
    "  * 9 - pH\n",
    "  * 10 - sulphates\n",
    "  * 11 - alcohol\n",
    "  * 12 - Red/White\n",
    "\n",
    "\n"
   ]
  },
  {
   "cell_type": "markdown",
   "metadata": {
    "id": "O-9udvLb-XZj"
   },
   "source": [
    "# Step 1: Look at the data"
   ]
  },
  {
   "cell_type": "code",
   "execution_count": 14,
   "metadata": {
    "id": "QAX4kLJrJDcx"
   },
   "outputs": [],
   "source": [
    "import os\n",
    "if not os.path.exists('winequality.names'):\n",
    "  os.system(\"wget https://archive.ics.uci.edu/ml/machine-learning-databases/wine-quality/winequality.names\")\n",
    "  os.system('wget https://archive.ics.uci.edu/ml/machine-learning-databases/wine-quality/winequality-red.csv')\n",
    "  os.system('wget https://archive.ics.uci.edu/ml/machine-learning-databases/wine-quality/winequality-white.csv')"
   ]
  },
  {
   "cell_type": "code",
   "execution_count": 15,
   "metadata": {
    "colab": {
     "base_uri": "https://localhost:8080/"
    },
    "id": "Zp8GKhaBkyXt",
    "outputId": "ab251e35-54b2-467a-8ff5-d3bdcf5836f2"
   },
   "outputs": [
    {
     "name": "stdout",
     "output_type": "stream",
     "text": [
      "Citation Request:\n",
      "  This dataset is public available for research. The details are described in [Cortez et al., 2009]. \n",
      "  Please include this citation if you plan to use this database:\n",
      "\n",
      "  P. Cortez, A. Cerdeira, F. Almeida, T. Matos and J. Reis. \n",
      "  Modeling wine preferences by data mining from physicochemical properties.\n",
      "  In Decision Support Systems, Elsevier, 47(4):547-553. ISSN: 0167-9236.\n",
      "\n",
      "  Available at: [@Elsevier] http://dx.doi.org/10.1016/j.dss.2009.05.016\n",
      "                [Pre-press (pdf)] http://www3.dsi.uminho.pt/pcortez/winequality09.pdf\n",
      "                [bib] http://www3.dsi.uminho.pt/pcortez/dss09.bib\n",
      "\n",
      "1. Title: Wine Quality \n",
      "\n",
      "2. Sources\n",
      "   Created by: Paulo Cortez (Univ. Minho), Antonio Cerdeira, Fernando Almeida, Telmo Matos and Jose Reis (CVRVV) @ 2009\n",
      "   \n",
      "3. Past Usage:\n",
      "\n",
      "  P. Cortez, A. Cerdeira, F. Almeida, T. Matos and J. Reis. \n",
      "  Modeling wine preferences by data mining from physicochemical properties.\n",
      "  In Decision Support Systems, Elsevier, 47(4):547-553. ISSN: 0167-9236.\n",
      "\n",
      "  In the above reference, two datasets were created, using red and white wine samples.\n",
      "  The inputs include objective tests (e.g. PH values) and the output is based on sensory data\n",
      "  (median of at least 3 evaluations made by wine experts). Each expert graded the wine quality \n",
      "  between 0 (very bad) and 10 (very excellent). Several data mining methods were applied to model\n",
      "  these datasets under a regression approach. The support vector machine model achieved the\n",
      "  best results. Several metrics were computed: MAD, confusion matrix for a fixed error tolerance (T),\n",
      "  etc. Also, we plot the relative importances of the input variables (as measured by a sensitivity\n",
      "  analysis procedure).\n",
      " \n",
      "4. Relevant Information:\n",
      "\n",
      "   The two datasets are related to red and white variants of the Portuguese \"Vinho Verde\" wine.\n",
      "   For more details, consult: http://www.vinhoverde.pt/en/ or the reference [Cortez et al., 2009].\n",
      "   Due to privacy and logistic issues, only physicochemical (inputs) and sensory (the output) variables \n",
      "   are available (e.g. there is no data about grape types, wine brand, wine selling price, etc.).\n",
      "\n",
      "   These datasets can be viewed as classification or regression tasks.\n",
      "   The classes are ordered and not balanced (e.g. there are munch more normal wines than\n",
      "   excellent or poor ones). Outlier detection algorithms could be used to detect the few excellent\n",
      "   or poor wines. Also, we are not sure if all input variables are relevant. So\n",
      "   it could be interesting to test feature selection methods. \n",
      "\n",
      "5. Number of Instances: red wine - 1599; white wine - 4898. \n",
      "\n",
      "6. Number of Attributes: 11 + output attribute\n",
      "  \n",
      "   Note: several of the attributes may be correlated, thus it makes sense to apply some sort of\n",
      "   feature selection.\n",
      "\n",
      "7. Attribute information:\n",
      "\n",
      "   For more information, read [Cortez et al., 2009].\n",
      "\n",
      "   Input variables (based on physicochemical tests):\n",
      "   1 - fixed acidity\n",
      "   2 - volatile acidity\n",
      "   3 - citric acid\n",
      "   4 - residual sugar\n",
      "   5 - chlorides\n",
      "   6 - free sulfur dioxide\n",
      "   7 - total sulfur dioxide\n",
      "   8 - density\n",
      "   9 - pH\n",
      "   10 - sulphates\n",
      "   11 - alcohol\n",
      "   Output variable (based on sensory data): \n",
      "   12 - quality (score between 0 and 10)\n",
      "\n",
      "8. Missing Attribute Values: None\n"
     ]
    }
   ],
   "source": [
    "!cat winequality.names"
   ]
  },
  {
   "cell_type": "markdown",
   "metadata": {},
   "source": [
    "# Combine into a dataframe"
   ]
  },
  {
   "cell_type": "code",
   "execution_count": 16,
   "metadata": {
    "id": "j3Z52WyRJXyw"
   },
   "outputs": [],
   "source": [
    "import pandas as pd\n",
    "reds=pd.read_csv('winequality-red.csv',skiprows=0,delimiter=';' )\n",
    "reds['type']= 1. #'red'\n",
    "whites=pd.read_csv('winequality-white.csv',skiprows=0,delimiter=';')\n",
    "whites['type']= 0. #'white'\n",
    "data=pd.concat([reds,whites],axis=0).reset_index()\n"
   ]
  },
  {
   "cell_type": "code",
   "execution_count": 17,
   "metadata": {},
   "outputs": [
    {
     "data": {
      "text/html": [
       "<div>\n",
       "<style scoped>\n",
       "    .dataframe tbody tr th:only-of-type {\n",
       "        vertical-align: middle;\n",
       "    }\n",
       "\n",
       "    .dataframe tbody tr th {\n",
       "        vertical-align: top;\n",
       "    }\n",
       "\n",
       "    .dataframe thead th {\n",
       "        text-align: right;\n",
       "    }\n",
       "</style>\n",
       "<table border=\"1\" class=\"dataframe\">\n",
       "  <thead>\n",
       "    <tr style=\"text-align: right;\">\n",
       "      <th></th>\n",
       "      <th>index</th>\n",
       "      <th>fixed acidity</th>\n",
       "      <th>volatile acidity</th>\n",
       "      <th>citric acid</th>\n",
       "      <th>residual sugar</th>\n",
       "      <th>chlorides</th>\n",
       "      <th>free sulfur dioxide</th>\n",
       "      <th>total sulfur dioxide</th>\n",
       "      <th>density</th>\n",
       "      <th>pH</th>\n",
       "      <th>sulphates</th>\n",
       "      <th>alcohol</th>\n",
       "      <th>quality</th>\n",
       "      <th>type</th>\n",
       "    </tr>\n",
       "  </thead>\n",
       "  <tbody>\n",
       "    <tr>\n",
       "      <th>0</th>\n",
       "      <td>0</td>\n",
       "      <td>7.4</td>\n",
       "      <td>0.70</td>\n",
       "      <td>0.00</td>\n",
       "      <td>1.9</td>\n",
       "      <td>0.076</td>\n",
       "      <td>11.0</td>\n",
       "      <td>34.0</td>\n",
       "      <td>0.9978</td>\n",
       "      <td>3.51</td>\n",
       "      <td>0.56</td>\n",
       "      <td>9.4</td>\n",
       "      <td>5</td>\n",
       "      <td>1.0</td>\n",
       "    </tr>\n",
       "    <tr>\n",
       "      <th>1</th>\n",
       "      <td>1</td>\n",
       "      <td>7.8</td>\n",
       "      <td>0.88</td>\n",
       "      <td>0.00</td>\n",
       "      <td>2.6</td>\n",
       "      <td>0.098</td>\n",
       "      <td>25.0</td>\n",
       "      <td>67.0</td>\n",
       "      <td>0.9968</td>\n",
       "      <td>3.20</td>\n",
       "      <td>0.68</td>\n",
       "      <td>9.8</td>\n",
       "      <td>5</td>\n",
       "      <td>1.0</td>\n",
       "    </tr>\n",
       "    <tr>\n",
       "      <th>2</th>\n",
       "      <td>2</td>\n",
       "      <td>7.8</td>\n",
       "      <td>0.76</td>\n",
       "      <td>0.04</td>\n",
       "      <td>2.3</td>\n",
       "      <td>0.092</td>\n",
       "      <td>15.0</td>\n",
       "      <td>54.0</td>\n",
       "      <td>0.9970</td>\n",
       "      <td>3.26</td>\n",
       "      <td>0.65</td>\n",
       "      <td>9.8</td>\n",
       "      <td>5</td>\n",
       "      <td>1.0</td>\n",
       "    </tr>\n",
       "    <tr>\n",
       "      <th>3</th>\n",
       "      <td>3</td>\n",
       "      <td>11.2</td>\n",
       "      <td>0.28</td>\n",
       "      <td>0.56</td>\n",
       "      <td>1.9</td>\n",
       "      <td>0.075</td>\n",
       "      <td>17.0</td>\n",
       "      <td>60.0</td>\n",
       "      <td>0.9980</td>\n",
       "      <td>3.16</td>\n",
       "      <td>0.58</td>\n",
       "      <td>9.8</td>\n",
       "      <td>6</td>\n",
       "      <td>1.0</td>\n",
       "    </tr>\n",
       "    <tr>\n",
       "      <th>4</th>\n",
       "      <td>4</td>\n",
       "      <td>7.4</td>\n",
       "      <td>0.70</td>\n",
       "      <td>0.00</td>\n",
       "      <td>1.9</td>\n",
       "      <td>0.076</td>\n",
       "      <td>11.0</td>\n",
       "      <td>34.0</td>\n",
       "      <td>0.9978</td>\n",
       "      <td>3.51</td>\n",
       "      <td>0.56</td>\n",
       "      <td>9.4</td>\n",
       "      <td>5</td>\n",
       "      <td>1.0</td>\n",
       "    </tr>\n",
       "  </tbody>\n",
       "</table>\n",
       "</div>"
      ],
      "text/plain": [
       "   index  fixed acidity  volatile acidity  citric acid  residual sugar  \\\n",
       "0      0            7.4              0.70         0.00             1.9   \n",
       "1      1            7.8              0.88         0.00             2.6   \n",
       "2      2            7.8              0.76         0.04             2.3   \n",
       "3      3           11.2              0.28         0.56             1.9   \n",
       "4      4            7.4              0.70         0.00             1.9   \n",
       "\n",
       "   chlorides  free sulfur dioxide  total sulfur dioxide  density    pH  \\\n",
       "0      0.076                 11.0                  34.0   0.9978  3.51   \n",
       "1      0.098                 25.0                  67.0   0.9968  3.20   \n",
       "2      0.092                 15.0                  54.0   0.9970  3.26   \n",
       "3      0.075                 17.0                  60.0   0.9980  3.16   \n",
       "4      0.076                 11.0                  34.0   0.9978  3.51   \n",
       "\n",
       "   sulphates  alcohol  quality  type  \n",
       "0       0.56      9.4        5   1.0  \n",
       "1       0.68      9.8        5   1.0  \n",
       "2       0.65      9.8        5   1.0  \n",
       "3       0.58      9.8        6   1.0  \n",
       "4       0.56      9.4        5   1.0  "
      ]
     },
     "execution_count": 17,
     "metadata": {},
     "output_type": "execute_result"
    }
   ],
   "source": [
    "data.head()"
   ]
  },
  {
   "cell_type": "code",
   "execution_count": 18,
   "metadata": {
    "colab": {
     "base_uri": "https://localhost:8080/",
     "height": 447
    },
    "id": "E3YYcw-1LPZI",
    "outputId": "12817e0f-3b0e-4d30-fa9a-255b6baf95b5"
   },
   "outputs": [
    {
     "data": {
      "text/plain": [
       "<Axes: >"
      ]
     },
     "execution_count": 18,
     "metadata": {},
     "output_type": "execute_result"
    },
    {
     "data": {
      "image/png": "[encoded data removed]",
      "text/plain": [
       "<Figure size 640x480 with 1 Axes>"
      ]
     },
     "metadata": {},
     "output_type": "display_data"
    }
   ],
   "source": [
    "data['quality'].hist()"
   ]
  },
  {
   "cell_type": "markdown",
   "metadata": {},
   "source": [
    "# Binary Classification\n",
    "Let's start by setting this problem up as a binary classification problem.\n",
    "Split the 'good' wine from the 'bad' wine down the middle."
   ]
  },
  {
   "cell_type": "code",
   "execution_count": 19,
   "metadata": {
    "id": "lZub9TGdKLn_"
   },
   "outputs": [],
   "source": [
    "predictors=['fixed acidity', 'volatile acidity', 'citric acid', 'residual sugar',\n",
    "       'chlorides', 'free sulfur dioxide', 'total sulfur dioxide', 'density',\n",
    "       'pH', 'sulphates', 'alcohol','type']\n",
    "\n",
    "\n",
    "#Predict 'Top'\n",
    "\n",
    "x=data[predictors].values\n",
    "y=(data['quality'] > 5).values\n",
    "\n",
    "#for p in predictors:\n",
    "#   sns.histplot(data,x=p,hue=y,common_norm=False,stat='density',bins=20)\n",
    "#   plt.show()\n"
   ]
  },
  {
   "cell_type": "code",
   "execution_count": 20,
   "metadata": {
    "colab": {
     "base_uri": "https://localhost:8080/",
     "height": 441
    },
    "id": "RKpwXPJoJzkf",
    "outputId": "171fa2c6-a881-481f-e3e7-1e109cc5bb93"
   },
   "outputs": [
    {
     "data": {
      "text/html": [
       "<div>\n",
       "<style scoped>\n",
       "    .dataframe tbody tr th:only-of-type {\n",
       "        vertical-align: middle;\n",
       "    }\n",
       "\n",
       "    .dataframe tbody tr th {\n",
       "        vertical-align: top;\n",
       "    }\n",
       "\n",
       "    .dataframe thead th {\n",
       "        text-align: right;\n",
       "    }\n",
       "</style>\n",
       "<table border=\"1\" class=\"dataframe\">\n",
       "  <thead>\n",
       "    <tr style=\"text-align: right;\">\n",
       "      <th></th>\n",
       "      <th>fixed acidity</th>\n",
       "      <th>volatile acidity</th>\n",
       "      <th>citric acid</th>\n",
       "      <th>residual sugar</th>\n",
       "      <th>chlorides</th>\n",
       "      <th>free sulfur dioxide</th>\n",
       "      <th>total sulfur dioxide</th>\n",
       "      <th>density</th>\n",
       "      <th>pH</th>\n",
       "      <th>sulphates</th>\n",
       "      <th>alcohol</th>\n",
       "      <th>type</th>\n",
       "    </tr>\n",
       "  </thead>\n",
       "  <tbody>\n",
       "    <tr>\n",
       "      <th>0</th>\n",
       "      <td>7.4</td>\n",
       "      <td>0.70</td>\n",
       "      <td>0.00</td>\n",
       "      <td>1.9</td>\n",
       "      <td>0.076</td>\n",
       "      <td>11.0</td>\n",
       "      <td>34.0</td>\n",
       "      <td>0.99780</td>\n",
       "      <td>3.51</td>\n",
       "      <td>0.56</td>\n",
       "      <td>9.4</td>\n",
       "      <td>1.0</td>\n",
       "    </tr>\n",
       "    <tr>\n",
       "      <th>1</th>\n",
       "      <td>7.8</td>\n",
       "      <td>0.88</td>\n",
       "      <td>0.00</td>\n",
       "      <td>2.6</td>\n",
       "      <td>0.098</td>\n",
       "      <td>25.0</td>\n",
       "      <td>67.0</td>\n",
       "      <td>0.99680</td>\n",
       "      <td>3.20</td>\n",
       "      <td>0.68</td>\n",
       "      <td>9.8</td>\n",
       "      <td>1.0</td>\n",
       "    </tr>\n",
       "    <tr>\n",
       "      <th>2</th>\n",
       "      <td>7.8</td>\n",
       "      <td>0.76</td>\n",
       "      <td>0.04</td>\n",
       "      <td>2.3</td>\n",
       "      <td>0.092</td>\n",
       "      <td>15.0</td>\n",
       "      <td>54.0</td>\n",
       "      <td>0.99700</td>\n",
       "      <td>3.26</td>\n",
       "      <td>0.65</td>\n",
       "      <td>9.8</td>\n",
       "      <td>1.0</td>\n",
       "    </tr>\n",
       "    <tr>\n",
       "      <th>3</th>\n",
       "      <td>11.2</td>\n",
       "      <td>0.28</td>\n",
       "      <td>0.56</td>\n",
       "      <td>1.9</td>\n",
       "      <td>0.075</td>\n",
       "      <td>17.0</td>\n",
       "      <td>60.0</td>\n",
       "      <td>0.99800</td>\n",
       "      <td>3.16</td>\n",
       "      <td>0.58</td>\n",
       "      <td>9.8</td>\n",
       "      <td>1.0</td>\n",
       "    </tr>\n",
       "    <tr>\n",
       "      <th>4</th>\n",
       "      <td>7.4</td>\n",
       "      <td>0.70</td>\n",
       "      <td>0.00</td>\n",
       "      <td>1.9</td>\n",
       "      <td>0.076</td>\n",
       "      <td>11.0</td>\n",
       "      <td>34.0</td>\n",
       "      <td>0.99780</td>\n",
       "      <td>3.51</td>\n",
       "      <td>0.56</td>\n",
       "      <td>9.4</td>\n",
       "      <td>1.0</td>\n",
       "    </tr>\n",
       "    <tr>\n",
       "      <th>...</th>\n",
       "      <td>...</td>\n",
       "      <td>...</td>\n",
       "      <td>...</td>\n",
       "      <td>...</td>\n",
       "      <td>...</td>\n",
       "      <td>...</td>\n",
       "      <td>...</td>\n",
       "      <td>...</td>\n",
       "      <td>...</td>\n",
       "      <td>...</td>\n",
       "      <td>...</td>\n",
       "      <td>...</td>\n",
       "    </tr>\n",
       "    <tr>\n",
       "      <th>6492</th>\n",
       "      <td>6.2</td>\n",
       "      <td>0.21</td>\n",
       "      <td>0.29</td>\n",
       "      <td>1.6</td>\n",
       "      <td>0.039</td>\n",
       "      <td>24.0</td>\n",
       "      <td>92.0</td>\n",
       "      <td>0.99114</td>\n",
       "      <td>3.27</td>\n",
       "      <td>0.50</td>\n",
       "      <td>11.2</td>\n",
       "      <td>0.0</td>\n",
       "    </tr>\n",
       "    <tr>\n",
       "      <th>6493</th>\n",
       "      <td>6.6</td>\n",
       "      <td>0.32</td>\n",
       "      <td>0.36</td>\n",
       "      <td>8.0</td>\n",
       "      <td>0.047</td>\n",
       "      <td>57.0</td>\n",
       "      <td>168.0</td>\n",
       "      <td>0.99490</td>\n",
       "      <td>3.15</td>\n",
       "      <td>0.46</td>\n",
       "      <td>9.6</td>\n",
       "      <td>0.0</td>\n",
       "    </tr>\n",
       "    <tr>\n",
       "      <th>6494</th>\n",
       "      <td>6.5</td>\n",
       "      <td>0.24</td>\n",
       "      <td>0.19</td>\n",
       "      <td>1.2</td>\n",
       "      <td>0.041</td>\n",
       "      <td>30.0</td>\n",
       "      <td>111.0</td>\n",
       "      <td>0.99254</td>\n",
       "      <td>2.99</td>\n",
       "      <td>0.46</td>\n",
       "      <td>9.4</td>\n",
       "      <td>0.0</td>\n",
       "    </tr>\n",
       "    <tr>\n",
       "      <th>6495</th>\n",
       "      <td>5.5</td>\n",
       "      <td>0.29</td>\n",
       "      <td>0.30</td>\n",
       "      <td>1.1</td>\n",
       "      <td>0.022</td>\n",
       "      <td>20.0</td>\n",
       "      <td>110.0</td>\n",
       "      <td>0.98869</td>\n",
       "      <td>3.34</td>\n",
       "      <td>0.38</td>\n",
       "      <td>12.8</td>\n",
       "      <td>0.0</td>\n",
       "    </tr>\n",
       "    <tr>\n",
       "      <th>6496</th>\n",
       "      <td>6.0</td>\n",
       "      <td>0.21</td>\n",
       "      <td>0.38</td>\n",
       "      <td>0.8</td>\n",
       "      <td>0.020</td>\n",
       "      <td>22.0</td>\n",
       "      <td>98.0</td>\n",
       "      <td>0.98941</td>\n",
       "      <td>3.26</td>\n",
       "      <td>0.32</td>\n",
       "      <td>11.8</td>\n",
       "      <td>0.0</td>\n",
       "    </tr>\n",
       "  </tbody>\n",
       "</table>\n",
       "<p>6497 rows × 12 columns</p>\n",
       "</div>"
      ],
      "text/plain": [
       "      fixed acidity  volatile acidity  citric acid  residual sugar  chlorides  \\\n",
       "0               7.4              0.70         0.00             1.9      0.076   \n",
       "1               7.8              0.88         0.00             2.6      0.098   \n",
       "2               7.8              0.76         0.04             2.3      0.092   \n",
       "3              11.2              0.28         0.56             1.9      0.075   \n",
       "4               7.4              0.70         0.00             1.9      0.076   \n",
       "...             ...               ...          ...             ...        ...   \n",
       "6492            6.2              0.21         0.29             1.6      0.039   \n",
       "6493            6.6              0.32         0.36             8.0      0.047   \n",
       "6494            6.5              0.24         0.19             1.2      0.041   \n",
       "6495            5.5              0.29         0.30             1.1      0.022   \n",
       "6496            6.0              0.21         0.38             0.8      0.020   \n",
       "\n",
       "      free sulfur dioxide  total sulfur dioxide  density    pH  sulphates  \\\n",
       "0                    11.0                  34.0  0.99780  3.51       0.56   \n",
       "1                    25.0                  67.0  0.99680  3.20       0.68   \n",
       "2                    15.0                  54.0  0.99700  3.26       0.65   \n",
       "3                    17.0                  60.0  0.99800  3.16       0.58   \n",
       "4                    11.0                  34.0  0.99780  3.51       0.56   \n",
       "...                   ...                   ...      ...   ...        ...   \n",
       "6492                 24.0                  92.0  0.99114  3.27       0.50   \n",
       "6493                 57.0                 168.0  0.99490  3.15       0.46   \n",
       "6494                 30.0                 111.0  0.99254  2.99       0.46   \n",
       "6495                 20.0                 110.0  0.98869  3.34       0.38   \n",
       "6496                 22.0                  98.0  0.98941  3.26       0.32   \n",
       "\n",
       "      alcohol  type  \n",
       "0         9.4   1.0  \n",
       "1         9.8   1.0  \n",
       "2         9.8   1.0  \n",
       "3         9.8   1.0  \n",
       "4         9.4   1.0  \n",
       "...       ...   ...  \n",
       "6492     11.2   0.0  \n",
       "6493      9.6   0.0  \n",
       "6494      9.4   0.0  \n",
       "6495     12.8   0.0  \n",
       "6496     11.8   0.0  \n",
       "\n",
       "[6497 rows x 12 columns]"
      ]
     },
     "metadata": {},
     "output_type": "display_data"
    },
    {
     "name": "stdout",
     "output_type": "stream",
     "text": [
      "(6497, 12) (6497,)\n"
     ]
    }
   ],
   "source": [
    "display(data[predictors])\n",
    "\n",
    "print(x.shape,y.shape)"
   ]
  },
  {
   "cell_type": "code",
   "execution_count": 21,
   "metadata": {},
   "outputs": [
    {
     "name": "stdout",
     "output_type": "stream",
     "text": [
      "6497 1299\n"
     ]
    }
   ],
   "source": [
    "import random\n",
    "random.seed(100)\n",
    "split_index=list(range(len(data)))\n",
    "random.shuffle(split_index)\n",
    "\n",
    "train_size = int(0.6 * len(data))\n",
    "val_size = int(0.2 * len(data))\n",
    "test_size = len(data) - train_size - val_size\n",
    "print(len(data),np.max(len(split_index[train_size:train_size+val_size])))\n",
    "\n",
    "data['dset']='train'\n",
    "data.loc[split_index[train_size:train_size+val_size],'dset']='val'\n",
    "data.loc[split_index[train_size+val_size:],'dset']='test'\n",
    "\n",
    "data['target']=data['quality'] >5\n",
    "\n",
    "x=data[predictors].values\n",
    "y=data['target'].values\n",
    "\n",
    "train_x=x[data['dset']=='train' ]\n",
    "val_x=x[data['dset']=='val' ]\n",
    "test_x=x[data['dset']=='test' ]\n",
    "\n",
    "train_y=y[data['dset']=='train' ]\n",
    "val_y=y[data['dset']=='val' ]\n",
    "test_y=y[data['dset']=='test' ]\n",
    "\n",
    "\n",
    "#train_dataset=TensorDataset(torch.Tensor(x).float(),torch.Tensor(y).float())"
   ]
  },
  {
   "cell_type": "code",
   "execution_count": 22,
   "metadata": {},
   "outputs": [
    {
     "data": {
      "text/plain": [
       "<Axes: xlabel='alcohol', ylabel='Count'>"
      ]
     },
     "execution_count": 22,
     "metadata": {},
     "output_type": "execute_result"
    },
    {
     "data": {
      "image/png": "[encoded data removed]",
      "text/plain": [
       "<Figure size 640x480 with 1 Axes>"
      ]
     },
     "metadata": {},
     "output_type": "display_data"
    }
   ],
   "source": [
    "sns.histplot(data,x='alcohol',hue='target')\n"
   ]
  },
  {
   "cell_type": "markdown",
   "metadata": {},
   "source": [
    "# Normalize Data\n",
    "\n",
    "Remember to normalize your data\n",
    "\n",
    "## An important point\n",
    "Always use your **training** data to calculate the constants you use to normalize your data.\n",
    "This prevents data-leakage, which is a general term for using information your model won't actually have when it's being used after being trained.\n",
    "\n"
   ]
  },
  {
   "cell_type": "code",
   "execution_count": 23,
   "metadata": {},
   "outputs": [
    {
     "data": {
      "image/png": "[encoded data removed]",
      "text/plain": [
       "<Figure size 640x480 with 1 Axes>"
      ]
     },
     "metadata": {},
     "output_type": "display_data"
    }
   ],
   "source": [
    "plt.hist(train_x[:,0])\n",
    "plt.show()"
   ]
  },
  {
   "cell_type": "code",
   "execution_count": 24,
   "metadata": {},
   "outputs": [
    {
     "data": {
      "text/plain": [
       "array([7.24354797e+00, 3.41454592e-01, 3.21890713e-01, 5.47204977e+00,\n",
       "       5.60715752e-02, 3.04266290e+01, 1.15821447e+02, 9.94718521e-01,\n",
       "       3.21727296e+00, 5.29928168e-01, 1.04952078e+01, 2.45253976e-01])"
      ]
     },
     "execution_count": 24,
     "metadata": {},
     "output_type": "execute_result"
    }
   ],
   "source": [
    "train_x.mean(axis=0)"
   ]
  },
  {
   "cell_type": "code",
   "execution_count": 25,
   "metadata": {},
   "outputs": [
    {
     "data": {
      "image/png": "[encoded data removed]",
      "text/plain": [
       "<Figure size 640x480 with 1 Axes>"
      ]
     },
     "metadata": {},
     "output_type": "display_data"
    }
   ],
   "source": [
    "mean=train_x.mean(axis=0)\n",
    "std=train_x.std(axis=0)\n",
    "\n",
    "\n",
    "train_x=(train_x-mean)/std\n",
    "val_x=(val_x-mean)/std\n",
    "test_x=(test_x-mean)/std\n",
    "x=(x-mean)/std\n",
    "\n",
    "plt.hist(train_x[:,0])\n",
    "plt.show()"
   ]
  },
  {
   "cell_type": "code",
   "execution_count": null,
   "metadata": {},
   "outputs": [],
   "source": []
  },
  {
   "cell_type": "code",
   "execution_count": 26,
   "metadata": {},
   "outputs": [],
   "source": [
    "train_dataset=TensorDataset(torch.Tensor(train_x).float(),torch.Tensor(train_y).float())\n",
    "val_dataset=TensorDataset(torch.Tensor(val_x).float(),torch.Tensor(val_y).float())\n",
    "test_dataset=TensorDataset(torch.Tensor(test_x).float(),torch.Tensor(test_y).float())"
   ]
  },
  {
   "cell_type": "markdown",
   "metadata": {},
   "source": [
    "# Build a Model\n",
    "\n",
    "1. This a model has many mistakes!\n",
    "2.  Let's fix it together\n",
    "   "
   ]
  },
  {
   "cell_type": "code",
   "execution_count": 27,
   "metadata": {
    "id": "P-RYAkJOlfXH"
   },
   "outputs": [
    {
     "name": "stderr",
     "output_type": "stream",
     "text": [
      "/home/msuresh/.local/lib/python3.8/site-packages/sklearn/preprocessing/_encoders.py:975: FutureWarning: `sparse` was renamed to `sparse_output` in version 1.2 and will be removed in 1.4. `sparse_output` is ignored unless you leave `sparse` to its default value.\n",
      "  warnings.warn(\n"
     ]
    }
   ],
   "source": [
    "from sklearn.preprocessing import OneHotEncoder\n",
    "\n",
    "x=data[predictors].values\n",
    "y=(data['quality']).values\n",
    "encoder = OneHotEncoder(sparse=False)\n",
    "y_one_hot = encoder.fit_transform(y.reshape(-1,1))\n",
    "\n",
    "class WineMultiClassifier(torch.nn.Module):\n",
    "\n",
    "    def __init__(self,):\n",
    "        super(WineMultiClassifier, self).__init__()\n",
    "        self.input_layer = torch.nn.Linear(12, 20)\n",
    "        self.layer1 = torch.nn.Linear(20, 20)\n",
    "        self.layer2 = torch.nn.Linear(20, 20)\n",
    "        self.layer3 = torch.nn.Linear(20, 20)\n",
    "        \n",
    "        self.output = torch.nn.Linear(20, 7)\n",
    "        self.act=torch.nn.LeakyReLU()\n",
    "\n",
    "    def forward(self, x):\n",
    "        x = self.input_layer(x)\n",
    "        x = self.act(x)\n",
    "        x = self.layer1(x)\n",
    "        x = self.act(x)\n",
    "        x = self.layer2(x)\n",
    "        x = self.act(x)\n",
    "        x = self.layer3(x)\n",
    "        x = self.act(x)\n",
    "        x = torch.nn.functional.softmax(self.output(x))\n",
    "        return x\n",
    "\n"
   ]
  },
  {
   "cell_type": "code",
   "execution_count": 28,
   "metadata": {},
   "outputs": [],
   "source": [
    "train_y_one=y_one_hot[data['dset']=='train' ]\n",
    "val_y_one=y_one_hot[data['dset']=='val' ]\n",
    "test_y_one=y_one_hot[data['dset']=='test' ]"
   ]
  },
  {
   "cell_type": "code",
   "execution_count": 29,
   "metadata": {},
   "outputs": [],
   "source": [
    "train_dataset_one=TensorDataset(torch.Tensor(train_x).float(),torch.Tensor(train_y_one).float())\n",
    "val_dataset_one=TensorDataset(torch.Tensor(val_x).float(),torch.Tensor(val_y_one).float())\n",
    "test_dataset_one=TensorDataset(torch.Tensor(test_x).float(),torch.Tensor(test_y_one).float())"
   ]
  },
  {
   "cell_type": "markdown",
   "metadata": {},
   "source": [
    "# Train Model"
   ]
  },
  {
   "cell_type": "code",
   "execution_count": 46,
   "metadata": {},
   "outputs": [],
   "source": [
    "batch_size = 64\n",
    "n_epochs=20\n",
    "lr=1e-3\n",
    "weight_decay=0\n",
    "\n",
    "multi_wine_model=WineMultiClassifier()\n",
    "optimizer = torch.optim.Adam(multi_wine_model.parameters(), lr=lr, weight_decay=weight_decay)\n",
    "#optimizer = torch.optim.SGD(model.parameters(), lr=lr, weight_decay=weight_decay)\n"
   ]
  },
  {
   "cell_type": "code",
   "execution_count": 47,
   "metadata": {},
   "outputs": [
    {
     "data": {
      "text/plain": [
       "(6497, 7)"
      ]
     },
     "execution_count": 47,
     "metadata": {},
     "output_type": "execute_result"
    }
   ],
   "source": [
    "y_one_hot.shape"
   ]
  },
  {
   "cell_type": "code",
   "execution_count": 48,
   "metadata": {},
   "outputs": [
    {
     "name": "stderr",
     "output_type": "stream",
     "text": [
      "  0%|          | 0/20 [00:00<?, ?it/s]/tmp/ipykernel_3686417/1078254701.py:29: UserWarning: Implicit dimension choice for softmax has been deprecated. Change the call to include dim=X as an argument.\n",
      "  x = torch.nn.functional.softmax(self.output(x))\n",
      "100%|██████████| 20/20 [00:01<00:00, 14.21it/s]\n"
     ]
    }
   ],
   "source": [
    "accuracy = Accuracy(task=\"multiclass\", num_classes=7)\n",
    "f1_score = F1Score(task=\"multiclass\", num_classes=7)\n",
    "\n",
    "train_loader = DataLoader(train_dataset_one, batch_size=batch_size, shuffle=True)\n",
    "val_loader = DataLoader(val_dataset_one, batch_size=batch_size, shuffle=False)\n",
    "loss_fn= torch.nn.CrossEntropyLoss()\n",
    "\n",
    "accuracy_vals=[]\n",
    "step_loss_vals=[]\n",
    "val_loss_values=[]\n",
    "train_loss_values=[]\n",
    "for _epoch in tqdm(range(n_epochs)):\n",
    "    multi_wine_model.train()\n",
    "    for x_batch,y_batch in train_loader:\n",
    "        optimizer.zero_grad()\n",
    "        y_pred_one = multi_wine_model(x_batch).squeeze()\n",
    "        loss = loss_fn(y_pred_one,y_batch)\n",
    "        loss.backward()\n",
    "        step_loss_vals.append(loss.item())\n",
    "        optimizer.step()\n",
    "    multi_wine_model.eval()\n",
    "    y_pred_one,y_true_one,x_in=evaluate(multi_wine_model,val_loader)\n",
    "    val_loss_values.append(loss_fn(y_pred_one.squeeze(),y_true_one))\n",
    "    train_loss_values.append(np.mean(step_loss_vals[-10:]))\n",
    "    accuracy_vals.append(accuracy(y_pred_one.squeeze(),y_true_one))\n",
    "\n",
    "\n",
    "#data['pred']=multi_wine_model(torch.Tensor(x).float()).detach().numpy()\n",
    "\n",
    "preds = torch.argmax(multi_wine_model(torch.Tensor(x).float()), dim=1).detach().numpy()\n",
    "data['pred'] = preds"
   ]
  },
  {
   "cell_type": "code",
   "execution_count": 49,
   "metadata": {},
   "outputs": [
    {
     "data": {
      "image/png": "[encoded data removed]",
      "text/plain": [
       "<Figure size 640x480 with 1 Axes>"
      ]
     },
     "metadata": {},
     "output_type": "display_data"
    },
    {
     "data": {
      "image/png": "[encoded data removed]",
      "text/plain": [
       "<Figure size 640x480 with 1 Axes>"
      ]
     },
     "metadata": {},
     "output_type": "display_data"
    },
    {
     "data": {
      "image/png": "[encoded data removed]",
      "text/plain": [
       "<Figure size 640x480 with 1 Axes>"
      ]
     },
     "metadata": {},
     "output_type": "display_data"
    },
    {
     "name": "stdout",
     "output_type": "stream",
     "text": [
      "F1 Score tensor(0.0069)\n",
      "Accuracy tensor(0.0069)\n"
     ]
    }
   ],
   "source": [
    "from torchmetrics import Accuracy,F1Score\n",
    "plt.plot(train_loss_values,label='Train Loss')\n",
    "plt.plot(val_loss_values,label='Val Loss')\n",
    "plt.show()\n",
    "\n",
    "plt.plot(accuracy_vals,label='Val Loss')\n",
    "plt.show()\n",
    "\n",
    "\n",
    "sns.histplot(data[data['dset']=='val'],x='pred',hue='target')\n",
    "plt.show()\n",
    "\n",
    "#sns.histplot(data,x='pred',hue='dset',common_norm=False,stat='density')\n",
    "#plt.show()\n",
    "\n",
    "#sns.histplot(data,x= np.log(1/data['pred']-1),hue='dset',common_norm=False,bins=50,stat='density')\n",
    "#plt.yscale('log')\n",
    "#plt.show()\n",
    "\n",
    "accuracy = Accuracy(task=\"multiclass\", num_classes=7)\n",
    "f1_score = F1Score(task=\"multiclass\", num_classes=7)\n",
    "\n",
    "print('F1 Score',f1_score(y_pred_one.squeeze(),y_true_one))\n",
    "print('Accuracy',accuracy(y_pred_one.squeeze(),y_true_one))\n"
   ]
  },
  {
   "cell_type": "markdown",
   "metadata": {
    "id": "lxRGak9h-XZm"
   },
   "source": [
    "The Test loss should only slightly differ from the develop loss, if that's true you have a well trained network ready to evaluate new wine.\n",
    "\n",
    "\n",
    "# Try it yourself can you train a better neural network?\n",
    "\n",
    "\n",
    "* Start with the network above\n",
    "* Try adding layers, or hidden units\n",
    "* Try training with Weight Decay\n",
    "* Watch the val_loss when training make sure it doesn't start going up\n",
    "* if it does stop the training\n",
    "* **Don't use test data yet!** we'll see who has the best accuracy on the test data at the end of the class\n",
    "\n",
    "# Remember\n",
    "* More layers and neurons give you better flexibility, but take longer to train and you need to worry more about overfitting\n",
    "* Your input layer needs to be the same size as the number of features you'll use\n",
    "* Your out layer needs to have the same size and activation function to match the problem\n",
    "* Play with whatever you might now"
   ]
  },
  {
   "cell_type": "code",
   "execution_count": 165,
   "metadata": {},
   "outputs": [],
   "source": [
    "\"Wite your best parameters here\"\n",
    "\n",
    "best_accuracy=0.7906\n",
    "best_f1=0.8460\n",
    "\"\"\"\n",
    "paste your model with the best accuracy \n",
    "\"\"\"\n",
    "\n",
    "\"\"\"\n",
    "paste your models learning, rate, epochs, weight decay and batch_size \n",
    "\"\"\"\n",
    "batch_size = 64\n",
    "n_epochs=20\n",
    "lr=1e-3\n",
    "weight_decay=0"
   ]
  },
  {
   "cell_type": "markdown",
   "metadata": {
    "id": "Qh6Rz9Tm-XZm"
   },
   "source": [
    "# Are we happy with the model's preformance on the validation set?\n",
    "* Yes let's confirm with the test set\n",
    "    \n",
    "\n",
    "\n",
    "\n",
    "\n"
   ]
  },
  {
   "cell_type": "code",
   "execution_count": 166,
   "metadata": {
    "id": "ZZrbhWv4-XZm"
   },
   "outputs": [
    {
     "name": "stdout",
     "output_type": "stream",
     "text": [
      "F1 Score tensor(0.8267)\n",
      "Accuracy tensor(0.7723)\n"
     ]
    }
   ],
   "source": [
    "#We can use the evaluate function to caculate the loss and accuracy of different datasets\n",
    "test_loader = DataLoader(test_dataset, batch_size=batch_size, shuffle=False)\n",
    "y_pred,y_true,x_in=evaluate(wine_model,test_loader)\n",
    "test_loss=loss_fn(y_pred.squeeze(),y_true)\n",
    "\n",
    "print('F1 Score',f1_score(y_pred.squeeze(),y_true))\n",
    "print('Accuracy',accuracy(y_pred.squeeze(),y_true))\n"
   ]
  },
  {
   "cell_type": "markdown",
   "metadata": {},
   "source": [
    "# Multi-class Classification\n",
    "I would like you create and train your own model\n",
    "1. Start with your best model above\n",
    "2. Modify it as little as possible for a multi-class classification problem\n",
    "3. Try to predict Quality teaching each value as an independent class\n",
    "\n",
    "## Checklist\n",
    "did you\n",
    "1. Create a new nn.Module class\n",
    "2. Change the number of output neurons\n",
    "3. Change the activation function of the output\n",
    "4. Create a new set of 1-hot data\n",
    "5. re-create your datasets\n",
    "6. re-create your dataloaders\n",
    "\n"
   ]
  },
  {
   "cell_type": "markdown",
   "metadata": {},
   "source": [
    "## **I accidentally reworked the binary model above to be the multi-class model! I have included the best F1 and accuracy scores from my binary class in the cell above, but then changed the model to a multi-class one instead. Sorry!**"
   ]
  },
  {
   "cell_type": "markdown",
   "metadata": {},
   "source": [
    "# 510 - Regression\n",
    "\n",
    "1. Try one more more model with treating quality as a regression problem, write a model and train it.\n"
   ]
  },
  {
   "cell_type": "code",
   "execution_count": null,
   "metadata": {},
   "outputs": [],
   "source": [
    "\"Model Code here\""
   ]
  },
  {
   "cell_type": "markdown",
   "metadata": {},
   "source": [
    "# 510 - Compare\n",
    "\n",
    "I would like to detect wine with a quality greater than 5 as we did above, compare the accuracy of each different model above? You'll need to\n",
    "1. Convert each predictions into a binary one and \n"
   ]
  },
  {
   "cell_type": "code",
   "execution_count": null,
   "metadata": {},
   "outputs": [],
   "source": [
    "\"Comparision code\"\n"
   ]
  },
  {
   "cell_type": "markdown",
   "metadata": {},
   "source": [
    "2. What do you see, are there any advantage or disadvantages for each of these methods."
   ]
  },
  {
   "cell_type": "code",
   "execution_count": null,
   "metadata": {},
   "outputs": [],
   "source": [
    "\"Answer\"\n",
    "\n"
   ]
  },
  {
   "cell_type": "markdown",
   "metadata": {},
   "source": [
    "3. Would your answer be different if we were detecting wines with quality > 6"
   ]
  },
  {
   "cell_type": "code",
   "execution_count": null,
   "metadata": {},
   "outputs": [],
   "source": [
    "\"Answer\""
   ]
  }
 ],
 "metadata": {
  "celltoolbar": "Slideshow",
  "colab": {
   "provenance": []
  },
  "kernelspec": {
   "display_name": "Python 3 (ipykernel)",
   "language": "python",
   "name": "python3"
  },
  "language_info": {
   "codemirror_mode": {
    "name": "ipython",
    "version": 3
   },
   "file_extension": ".py",
   "mimetype": "text/x-python",
   "name": "python",
   "nbconvert_exporter": "python",
   "pygments_lexer": "ipython3",
   "version": "3.8.16"
  }
 },
 "nbformat": 4,
 "nbformat_minor": 4
}
